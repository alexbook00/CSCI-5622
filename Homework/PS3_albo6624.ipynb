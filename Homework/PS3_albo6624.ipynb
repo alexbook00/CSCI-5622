{
 "cells": [
  {
   "cell_type": "markdown",
   "metadata": {
    "deletable": false,
    "editable": false,
    "nbgrader": {
     "cell_type": "markdown",
     "checksum": "3f81acd82ece13381a1f4b64fecba836",
     "grade": false,
     "grade_id": "title",
     "locked": true,
     "schema_version": 3,
     "solution": false,
     "task": false
    }
   },
   "source": [
    "# Homework 3 - Linear and Logistic Regressions\n",
    "## CSCI 5622 - Fall 2021\n",
    "***\n",
    "**Name**: $<$insert name here$>$\n",
    "***\n",
    "\n",
    "This assignment is due on Canvas by **11.59 PM on Thursday, October 28th**.\n",
    "Submit only this Jupyter notebook to Canvas.  Do not compress it using tar, rar, zip, etc.\n",
    "Your solutions to analysis questions should be done in Markdown directly below the associated question.\n",
    "Remember that you are encouraged to discuss the problems with your classmates and instructors,\n",
    "but **you must write all code and solutions on your own**, and list any people or sources consulted."
   ]
  },
  {
   "cell_type": "code",
   "execution_count": 33,
   "metadata": {
    "deletable": false,
    "editable": false,
    "nbgrader": {
     "cell_type": "code",
     "checksum": "9354a50cd416af2f0d80ee2111823fe7",
     "grade": false,
     "grade_id": "imports",
     "locked": true,
     "schema_version": 3,
     "solution": false,
     "task": false
    },
    "pycharm": {
     "name": "#%%\n"
    }
   },
   "outputs": [],
   "source": [
    "import numpy as np\n",
    "import matplotlib.pyplot as plt\n",
    "import pandas as pd\n",
    "import pickle, gzip\n",
    "from sklearn.preprocessing import StandardScaler\n",
    "\n",
    "%matplotlib inline"
   ]
  },
  {
   "cell_type": "markdown",
   "metadata": {
    "deletable": false,
    "editable": false,
    "nbgrader": {
     "cell_type": "markdown",
     "checksum": "1b032fcf69a884a5981d01d7d0448a5c",
     "grade": false,
     "grade_id": "p1_title",
     "locked": true,
     "schema_version": 3,
     "solution": false,
     "task": false
    }
   },
   "source": [
    "## Problem 1: Linear Regression (40 points)\n",
    "For this problem we will be using the following datasets"
   ]
  },
  {
   "cell_type": "code",
   "execution_count": 34,
   "metadata": {
    "deletable": false,
    "editable": false,
    "nbgrader": {
     "cell_type": "code",
     "checksum": "3ae7f629ac419c794f9d3df38bb3cad6",
     "grade": false,
     "grade_id": "p1_data",
     "locked": true,
     "schema_version": 3,
     "solution": false,
     "task": false
    },
    "pycharm": {
     "name": "#%%\n"
    }
   },
   "outputs": [],
   "source": [
    "class CloudData:\n",
    "    def __init__(self):\n",
    "        # Data from: https://archive.ics.uci.edu/ml/datasets/Cloud\n",
    "        data = np.fromfile(\"data/cloud.data\", sep = \" \").reshape((1024, 10))\n",
    "        y = data[:, 6]\n",
    "        X = np.delete(data, 6, axis = 1)\n",
    "        \n",
    "        self.train_x = X[:800]\n",
    "        self.train_y = y[:800]\n",
    "        \n",
    "        self.test_x = X[800:]\n",
    "        self.test_y = y[800:]\n",
    "        \n",
    "class ForestData:\n",
    "    def __init__(self):\n",
    "        # Data from: http://archive.ics.uci.edu/ml/datasets/Forest+Fires\n",
    "        data = pd.read_csv(\"data/forestfires.csv\")\n",
    "        data = data.sample(frac = 1).reset_index(drop = True).drop(columns = [\"month\", \"day\"])\n",
    "        data[\"area\"] = np.log(data[\"area\"] + 1)\n",
    "        X = data.drop(columns = \"area\").values\n",
    "        y = data[\"area\"].values\n",
    "        \n",
    "        self.train_x = X[:400]\n",
    "        self.train_y = y[:400]\n",
    "        \n",
    "        self.test_x = X[400:]\n",
    "        self.test_y = y[400:]\n",
    "cloud_data = CloudData()\n",
    "forest_data = ForestData()"
   ]
  },
  {
   "cell_type": "markdown",
   "metadata": {
    "deletable": false,
    "editable": false,
    "nbgrader": {
     "cell_type": "markdown",
     "checksum": "808149ca0b92af2020f6292646220986",
     "grade": false,
     "grade_id": "ridge_intro",
     "locked": true,
     "schema_version": 3,
     "solution": false,
     "task": false
    },
    "pycharm": {
     "name": "#%% md\n"
    }
   },
   "source": [
    "We have seen that Ridge regression adds a regularization term to the least square using the L2 norm.\n",
    "Ridge regression is part of scikit-learn package ([read more](https://scikit-learn.org/stable/modules/generated/sklearn.linear_model.Ridge.html))\n",
    "but we will be building our own implementation. You can test your implementation against scikit's.\n",
    "\n",
    "The objective of Ridge regression is to minimize:\n",
    "\n",
    "\\begin{align}\n",
    "\\frac{1}{N}\\sum_{i=1}^{N} ||y_i-\\mathbf{w}^T x_i-b||^2 + \\alpha||\\mathbf{w}||^2\n",
    "\\end{align}\n",
    "\n",
    "where $\\mathbf{w}$ denotes the set of parameters for the linear regression model, $b$ the intercept, $\\alpha$ is the trade-off regularization parameter, and $N$ the number of samples\n",
    "\n",
    "Luckily for us, Ridge regression has closed form solutions for $\\mathbf w$ and $b$.\n",
    "\n",
    "Let $X$ be the $N\\times d$ matrix whose rows are the training samples $(x_i)_{i\\leq N}$ and $Y=(y_i)_{i\\leq N}$ the target values.\n",
    "\n",
    "First, we start by centering the features (columns of X) by subtracting the mean of the column to get centered matrix $\\hat{X}$. Then the solution for the minimization is (trust me):\n",
    "\n",
    "\\begin{align}\n",
    "&\\mathbf{w^*} = (\\hat{X}^T\\hat{X} + \\alpha I)^{-1}\\hat{X}^TY \\\\\n",
    "&b^* = \\frac{1}{N} \\sum_{i}^{i=N} (y_i - \\mathbf{w^*}^T x_i)\n",
    "\\end{align}\n",
    "(Note that the samples in $b^*$ are not centered)\n",
    "\n",
    "A common practice is to scale or normalize (usually normalize) the features before fitting the model. It allows a _fair_ treatment of different features.\n",
    "You are allowed to use scikit's `StandardScaler` to do the normalization (yes, a thing called scaler is normalizing. Don't @ me, @ sklearn). Do not forget to run the same transformation on the test data before running the prediction.\n",
    "\n",
    "- 1.1 *[5 points]* Complete the `fit` and `evaluate` methods following the docstring description."
   ]
  },
  {
   "cell_type": "code",
   "execution_count": 35,
   "metadata": {
    "deletable": false,
    "nbgrader": {
     "cell_type": "code",
     "checksum": "e00e2a00fae3131b6d112d33169f0f21",
     "grade": false,
     "grade_id": "a_1_1",
     "locked": false,
     "schema_version": 3,
     "solution": true,
     "task": false
    },
    "pycharm": {
     "name": "#%%\n"
    }
   },
   "outputs": [],
   "source": [
    "class Ridge(object):\n",
    "\n",
    "    def __init__(self, alpha, normalize = False):\n",
    "        \"\"\"\n",
    "        :param alpha: regularization parameter\n",
    "        :param normalize: boolean whether to normalize the features or not\n",
    "        \"\"\"\n",
    "\n",
    "        self.alpha = alpha # our tuning / regularization parameter\n",
    "        self.coef_ = None # our weights vector, w (in formulae above)\n",
    "        self.intercept = None # our intercept parameter, b (in formulae above)\n",
    "        self.normalize = normalize # boolean whether to normalize the features or not\n",
    "        self.scaler = StandardScaler() # method by which to normalize the features (depends on self.normalize)\n",
    "\n",
    "    def fit(self, X, y):\n",
    "        \"\"\"\n",
    "        Fit the ridge model, train it using the provided data\n",
    "        Calculate the number of non-zero coefficients in the model weights and the norm using np.linalg.norm\n",
    "        :param X: training features (n_samples, n_features)\n",
    "        :param y: target values (n_samples)\n",
    "        :return: tuple (number of non-zeros coefficients of w, norm of w)\n",
    "        \"\"\"\n",
    "        num_nonzero_coefs, coef_norm = 0, 0\n",
    "        # Workspace 1.1.a\n",
    "        # TO DO: compute w and b and store them in self.coef_ and self.intercept\n",
    "        # HINT: use self.scaler first, if and only if self.normalize is True\n",
    "        #BEGIN \n",
    "        #code here\n",
    "        \n",
    "        if self.normalize:\n",
    "            X = self.scaler.fit_transform(X)\n",
    "        \n",
    "        X_centered = np.zeros(np.shape(X))\n",
    "        \n",
    "        col_means = [np.mean(X, axis=0)[i] for i in range(len(X[0]))]\n",
    "        \n",
    "        for row in range(len(X)):\n",
    "            for col in range(len(X[0])):\n",
    "                X_centered[row][col] = X[row][col] - col_means[col]\n",
    "                \n",
    "        X_t_X = np.transpose(X_centered) @ X_centered\n",
    "        alpha_I = self.alpha * np.identity(np.shape(X)[1])\n",
    "        inverse_term = np.linalg.inv(X_t_X + alpha_I)\n",
    "        \n",
    "        w_star = inverse_term @ np.transpose(X_centered) @ y\n",
    "        \n",
    "        self.coef_ = w_star\n",
    "        \n",
    "        N = len(X) # n_samples\n",
    "        b_star = 0\n",
    "        for i in range(N):\n",
    "            b_star += y[i] - (np.transpose(w_star) @ np.transpose(X[i]))\n",
    "            \n",
    "        b_star /= N\n",
    "        self.intercept = b_star\n",
    "        \n",
    "        num_nonzero_coefs = np.count_nonzero(w_star)\n",
    "        coef_norm = np.linalg.norm(w_star)\n",
    "        \n",
    "        #END\n",
    "        return num_nonzero_coefs, coef_norm\n",
    "\n",
    "    def evaluate(self, test_x, test_y):\n",
    "        \"\"\"\n",
    "        Compute Root mean square error (RMSE) between the predicted values and the actual values  of the test data\n",
    "        :param test_x: test features\n",
    "        :param test_y: test target\n",
    "        :return: RMSE\n",
    "        \"\"\"\n",
    "        \n",
    "        if self.normalize:\n",
    "            test_x = self.scaler.transform(test_x)\n",
    "        \n",
    "        # Workspace 1.1.b\n",
    "        #BEGIN \n",
    "        #code here\n",
    "        \n",
    "        predicted_values = []\n",
    "        \n",
    "        for row in test_x:\n",
    "            y_hat = np.sum(self.coef_ * row) + self.intercept\n",
    "            predicted_values.append(y_hat)\n",
    "            \n",
    "        # to get RMSE, do (predicted - actual)^2, sum across num_samples, divide that by num_samples, take square root of all of that\n",
    "        RMSE = 0\n",
    "        for i in range(len(test_y)):\n",
    "            RMSE += (predicted_values[i] - test_y[i])**2\n",
    "            \n",
    "        RMSE /= len(test_y)\n",
    "        \n",
    "        root_mean_squared_error = np.sqrt(RMSE)\n",
    "        \n",
    "        #END\n",
    "        return root_mean_squared_error"
   ]
  },
  {
   "cell_type": "code",
   "execution_count": 36,
   "metadata": {
    "deletable": false,
    "editable": false,
    "nbgrader": {
     "cell_type": "code",
     "checksum": "d56ec7d6e3f88bbea00ac300ec608fde",
     "grade": true,
     "grade_id": "a_1_1_a",
     "locked": true,
     "points": 2.5,
     "schema_version": 3,
     "solution": false,
     "task": false
    },
    "pycharm": {
     "name": "#%%\n"
    }
   },
   "outputs": [],
   "source": [
    "# Tests cells, do not remove\n",
    "# Should run without errors\n",
    "sanity_X = np.array([[1.55143777, 0.2644804, 0.0995576 ],\n",
    "              [0.22541014,  1.6967911,  -0.45701382],\n",
    "              [0.12528546, -1.44263567, 0.7017054 ],\n",
    "              [-1.30567135, -0.86010032, -1.13522536]])\n",
    "sanity_y = np.array([ 136.70039877, 10.1003086, 44.67363091, -221.48398972])\n",
    "# Test unnormalized ridge\n",
    "coef_raw = np.array([67.3816571, 12.4267024, 46.63028522])\n",
    "intercept_raw = -7.2683820675025785\n",
    "reg = Ridge(alpha=2, normalize=False)\n",
    "reg.fit(sanity_X,sanity_y)\n",
    "assert np.alltrue(np.isclose(coef_raw, reg.coef_, atol=1e-5)) and np.isclose(intercept_raw, reg.intercept, atol=1e-5)"
   ]
  },
  {
   "cell_type": "code",
   "execution_count": 37,
   "metadata": {
    "deletable": false,
    "editable": false,
    "nbgrader": {
     "cell_type": "code",
     "checksum": "2d096edd9f3aa34f1ee3a2106c012d96",
     "grade": true,
     "grade_id": "a_1_1_b",
     "locked": true,
     "points": 2.5,
     "schema_version": 3,
     "solution": false,
     "task": false
    },
    "pycharm": {
     "name": "#%%\n"
    }
   },
   "outputs": [],
   "source": [
    "# test normalized ridge\n",
    "coef_norm = np.array([59.85861897, 18.28561265, 48.08714515])\n",
    "intercept_norm = -7.502412860000002\n",
    "reg = Ridge(alpha=2, normalize=True)\n",
    "reg.fit(sanity_X,sanity_y)\n",
    "assert np.alltrue(np.isclose(coef_norm, reg.coef_, atol=1e-5)) and np.isclose(intercept_norm, reg.intercept, atol=1e-5)"
   ]
  },
  {
   "cell_type": "markdown",
   "metadata": {
    "deletable": false,
    "editable": false,
    "nbgrader": {
     "cell_type": "markdown",
     "checksum": "03178410c09a67c38e2dc1437eab1a4f",
     "grade": false,
     "grade_id": "q_1_2",
     "locked": true,
     "schema_version": 3,
     "solution": false,
     "task": false
    },
    "pycharm": {
     "name": "#%% md\n"
    }
   },
   "source": [
    "- 1.2 *[5 points]* For each of the datasets (cloud_data and forest_data from the beginning of this notebook), produce 3 plots as a function of alpha that compare normalized versus non-normalized Ridge:\n",
    "    - The number non-zero coefficients\n",
    "    - The norm of $\\mathbf w$\n",
    "    - The test RMSE (Root Mean Squared Error)\n",
    "Use $\\alpha = 1, 50, 100, 200, 1000$.\n",
    "\n",
    "To produce multiple plots in the same figure, see the examples [here](https://matplotlib.org/devdocs/gallery/subplots_axes_and_figures/subplots_demo.html)"
   ]
  },
  {
   "cell_type": "code",
   "execution_count": 38,
   "metadata": {
    "deletable": false,
    "nbgrader": {
     "cell_type": "code",
     "checksum": "a91f6a5a0d3527ae30849d4b9e9bfaba",
     "grade": true,
     "grade_id": "a_1_2",
     "locked": false,
     "points": 5,
     "schema_version": 3,
     "solution": true,
     "task": false
    },
    "pycharm": {
     "name": "#%%\n"
    }
   },
   "outputs": [
    {
     "data": {
      "image/png": "[encoded data removed]",
      "text/plain": [
       "<Figure size 2880x576 with 3 Axes>"
      ]
     },
     "metadata": {
      "needs_background": "light"
     },
     "output_type": "display_data"
    },
    {
     "data": {
      "image/png": "[encoded data removed]",
      "text/plain": [
       "<Figure size 2880x576 with 3 Axes>"
      ]
     },
     "metadata": {
      "needs_background": "light"
     },
     "output_type": "display_data"
    }
   ],
   "source": [
    "alphas = [1, 50, 100, 200, 1000]\n",
    "# Workspace 1.2\n",
    "#BEGIN \n",
    "#code here\n",
    "\n",
    "for dataset in [cloud_data, forest_data]:\n",
    "    \n",
    "    non_zero_coef = {\n",
    "        'regular': [],\n",
    "        'normalized': []\n",
    "    }\n",
    "    \n",
    "    norm_w = {\n",
    "        'regular': [],\n",
    "        'normalized': []\n",
    "    }\n",
    "    \n",
    "    RMSE = {\n",
    "        'regular': [],\n",
    "        'normalized': []\n",
    "    }\n",
    "    \n",
    "    for alpha in alphas:\n",
    "        ridge = Ridge(alpha=alpha, normalize=False)\n",
    "        non_zero_coef_curr, norm_w_curr = ridge.fit(dataset.train_x, dataset.train_y)\n",
    "        RMSE_curr = ridge.evaluate(dataset.test_x, dataset.test_y)\n",
    "        \n",
    "        non_zero_coef['regular'].append(non_zero_coef_curr)\n",
    "        norm_w['regular'].append(norm_w_curr)\n",
    "        RMSE['regular'].append(RMSE_curr)\n",
    "        \n",
    "        ridge_norm = Ridge(alpha=alpha, normalize=True)\n",
    "        non_zero_coef_curr, norm_w_curr = ridge_norm.fit(dataset.train_x, dataset.train_y)\n",
    "        RMSE_curr = ridge_norm.evaluate(dataset.test_x, dataset.test_y)\n",
    "        \n",
    "        non_zero_coef['normalized'].append(non_zero_coef_curr)\n",
    "        norm_w['normalized'].append(norm_w_curr)\n",
    "        RMSE['normalized'].append(RMSE_curr)\n",
    "    \n",
    "    \n",
    "    fig, ax = plt.subplots(1, 3, figsize=(40, 8))\n",
    "    \n",
    "    ax[0].plot(alphas, non_zero_coef['regular'], marker='o', label='Non-normalized')\n",
    "    ax[0].plot(alphas, non_zero_coef['normalized'], marker='x', label='Normalized')\n",
    "    ax[0].set_xlabel('alpha')\n",
    "    ax[0].set_ylabel('num non-zero coef')\n",
    "    ax[0].set_title(f'Alpha vs. Num non-zero coef ({dataset.__class__.__name__})')\n",
    "    ax[0].legend()\n",
    "    \n",
    "    ax[1].plot(alphas, norm_w['regular'], marker='o', label='Non-normalized')\n",
    "    ax[1].plot(alphas, norm_w['normalized'], marker='x', label='Normalized')\n",
    "    ax[1].set_xlabel('alpha')\n",
    "    ax[1].set_ylabel('norm w')\n",
    "    ax[1].set_title(f'Alpha vs. norm w ({dataset.__class__.__name__})')\n",
    "    ax[1].legend()\n",
    "    \n",
    "    ax[2].plot(alphas, RMSE['regular'], marker='o', label='Non-normalized')\n",
    "    ax[2].plot(alphas, RMSE['normalized'], marker='x', label='Normalized')\n",
    "    ax[2].set_xlabel('alpha')\n",
    "    ax[2].set_ylabel('RMSE')\n",
    "    ax[2].set_title(f'Alpha vs. RMSE ({dataset.__class__.__name__})')\n",
    "    ax[2].legend()\n",
    "        \n",
    "#END"
   ]
  },
  {
   "cell_type": "markdown",
   "metadata": {
    "deletable": false,
    "editable": false,
    "nbgrader": {
     "cell_type": "markdown",
     "checksum": "dc7e2c2053991ca687b6d5610e0a5c11",
     "grade": false,
     "grade_id": "lasso_intro",
     "locked": true,
     "schema_version": 3,
     "solution": false,
     "task": false
    }
   },
   "source": [
    "Based on the results from previous questions, you should have noticed that the interpretation of Ridge regression is not an easy task.\n",
    "One way to solve that is to use a regularization that adds _sparsity_ to $\\mathbf w$ and excludes less important features.\n",
    "That's what Lasso regression is about.\n",
    "\n",
    "Lasso uses $l_1$ norm in the regularization term and minimizes:\n",
    "\\begin{align}\n",
    "\\frac{1}{2N}\\sum_i ||y_i-\\mathbf{w}^t x_i -b||^2 + \\alpha||\\mathbf{w}||_1\n",
    "\\end{align}\n",
    "\n",
    "It is part of scikit package ([more details](http://scikit-learn.org/stable/modules/generated/sklearn.linear_model.Lasso.html))\n",
    "and you're free to compare your implementation to scikit's.\n",
    "\n",
    "Unfortunately, there is no closed form solution for Lasso. Instead, we have powerful algorithms to optimize it.\n",
    "We will be using lasso-path solver from scikit-learn for our implementation to find $\\mathbf w^*$\n",
    "([see more](https://scikit-learn.org/stable/modules/generated/sklearn.linear_model.lasso_path.html#sklearn.linear_model.lasso_path)).\n",
    "(Note that `lasso_path` takes a list of $\\alpha$ in the argument `alphas` and not a scalar.)\n",
    "\n",
    "Similar to Ridge's, $ \\mathbf w^* $ is computed using lasso_path with the centered features $\\hat{X}$.\n",
    "Once $\\mathbf w^*$ is found, $b^*$ uses the same formula from Ridge regression.\n",
    "\n",
    "1.3 *[5 points]* Complete the Lasso class in the same way Ridge class was created. (You may use inheritance for a concise code.)"
   ]
  },
  {
   "cell_type": "code",
   "execution_count": 49,
   "metadata": {
    "deletable": false,
    "nbgrader": {
     "cell_type": "code",
     "checksum": "99fcb1a874198b290b80633930bc3e71",
     "grade": false,
     "grade_id": "lasso_code",
     "locked": false,
     "schema_version": 3,
     "solution": true,
     "task": false
    },
    "pycharm": {
     "name": "#%%\n"
    }
   },
   "outputs": [],
   "source": [
    "from sklearn.linear_model import lasso_path\n",
    "\n",
    "\n",
    "class Lasso(object):\n",
    "    def __init__(self, alpha, normalize = False):\n",
    "        \"\"\"\n",
    "        :param alpha: regularization parameter\n",
    "        :param normalize: boolean whether to normalize the features or not\n",
    "        \"\"\"\n",
    "\n",
    "        self.alpha = alpha # our tuning / regularization parameter\n",
    "        self.coef_ = None # our weights vector, w (in formulae above)\n",
    "        self.intercept = None # our intercept parameter, b (in formulae above)\n",
    "        self.normalize = normalize # boolean whether to normalize the features or not\n",
    "        self.scaler = StandardScaler() # method by which to normalize the features (depends on self.normalize)\n",
    "\n",
    "    def fit(self, X, y):\n",
    "        \"\"\"\n",
    "        Fit the lasso model, train it using the provided data\n",
    "        Calculate the number of non-zero coefficients in the model weights and the norm using np.linalg.norm\n",
    "        :param X: training features (n_samples, n_features)\n",
    "        :param y: target values (n_samples)\n",
    "        :return: tuple (number of non-zeros coefficients of w, norm of w)\n",
    "        \"\"\"\n",
    "\n",
    "        num_nonzero_coefs, coef_norm = 0, 0\n",
    "        # Workspace 1.3.a\n",
    "        # TO DO: compute w and b and store then in self.coef_ and self.intercept\n",
    "        # TO DO: call lasso_path on the centered features to compute self.coef_\n",
    "        # HINT: use self.scaler first, if and only if self.normalize is True\n",
    "        #BEGIN \n",
    "        #code here\n",
    "        \n",
    "        if self.normalize:\n",
    "            X = self.scaler.fit_transform(X)\n",
    "            \n",
    "        X_centered = np.zeros(np.shape(X))\n",
    "        \n",
    "        col_means = [np.mean(X, axis=0)[i] for i in range(len(X[0]))]\n",
    "        \n",
    "        for row in range(len(X)):\n",
    "            for col in range(len(X[0])):\n",
    "                X_centered[row][col] = X[row][col] - col_means[col]\n",
    "        \n",
    "        w_star = lasso_path(X_centered, y, alphas=[self.alpha])[1].flatten()\n",
    "        \n",
    "        self.coef_ = w_star\n",
    "        \n",
    "        N = len(X) # n_samples\n",
    "        b_star = 0\n",
    "        for i in range(N):\n",
    "            b_star += y[i] - (np.transpose(w_star) @ np.transpose(X[i]))\n",
    "            \n",
    "        b_star /= N\n",
    "        self.intercept = b_star\n",
    "        \n",
    "        num_nonzero_coefs = np.count_nonzero(w_star)\n",
    "        coef_norm = np.linalg.norm(w_star)\n",
    "        \n",
    "        \n",
    "        #END\n",
    "        return num_nonzero_coefs, coef_norm\n",
    "\n",
    "    def evaluate(self, test_x, test_y):\n",
    "        \"\"\"\n",
    "        Compute Root mean square error (RMSE) between the predicted values and the actual values  of the test data\n",
    "        :param test_x: test features\n",
    "        :param test_y: test target\n",
    "        :return: RMSE\n",
    "        \"\"\"\n",
    "        \n",
    "        if self.normalize:\n",
    "            test_x = self.scaler.transform(test_x)\n",
    "        \n",
    "        # Workspace 1.1.b\n",
    "        #BEGIN \n",
    "        #code here\n",
    "        \n",
    "        predicted_values = []\n",
    "        \n",
    "        for row in test_x:\n",
    "            y_hat = np.sum(self.coef_ * row) + self.intercept\n",
    "            predicted_values.append(y_hat)\n",
    "            \n",
    "        # to get RMSE, do (predicted - actual)^2, sum across num_samples, divide that by num_samples, take square root of all of that\n",
    "        RMSE = 0\n",
    "        for i in range(len(test_y)):\n",
    "            RMSE += (predicted_values[i] - test_y[i])**2\n",
    "            \n",
    "        RMSE /= len(test_y)\n",
    "        \n",
    "        root_mean_squared_error = np.sqrt(RMSE)\n",
    "        \n",
    "        #END\n",
    "        return root_mean_squared_error"
   ]
  },
  {
   "cell_type": "code",
   "execution_count": 50,
   "metadata": {
    "deletable": false,
    "editable": false,
    "nbgrader": {
     "cell_type": "code",
     "checksum": "1d1d56dc4a0ecd263e07b75e82b284e1",
     "grade": true,
     "grade_id": "a_1_3",
     "locked": true,
     "points": 5,
     "schema_version": 3,
     "solution": false,
     "task": false
    },
    "pycharm": {
     "name": "#%%\n"
    }
   },
   "outputs": [],
   "source": [
    "# Tests cell, do not remove\n",
    "# Test non-normalized Lasso\n",
    "coef_raw = np.array([83.36110924, 15.21050409, 79.08888918])\n",
    "intercept_raw = -2.9950281444221063\n",
    "reg = Lasso(alpha=2, normalize=False)\n",
    "reg.fit(sanity_X,sanity_y)\n",
    "assert np.alltrue(np.isclose(coef_raw, reg.coef_, atol=1e-5)) and np.isclose(intercept_raw, reg.intercept, atol=1e-5)\n",
    "\n",
    "# Test normalized Lasso\n",
    "coef_norm = np.array([82.32525113, 19.25895655, 56.15183344])\n",
    "intercept_norm = -7.502412860000005\n",
    "reg = Lasso(alpha=2, normalize=True)\n",
    "reg.fit(sanity_X,sanity_y)\n",
    "assert np.alltrue(np.isclose(coef_norm, reg.coef_, atol=1e-5)) and np.isclose(intercept_norm, reg.intercept, atol=1e-5)"
   ]
  },
  {
   "cell_type": "markdown",
   "metadata": {
    "deletable": false,
    "editable": false,
    "nbgrader": {
     "cell_type": "markdown",
     "checksum": "6df7a41d33c42c2f59a16bee2e7b705c",
     "grade": false,
     "grade_id": "q_1_4",
     "locked": true,
     "schema_version": 3,
     "solution": false,
     "task": false
    },
    "pycharm": {
     "name": "#%% md\n"
    }
   },
   "source": [
    "- 1.4 *[5 points]* For each of the datasets, produce 3 plots as a function of $\\alpha$ that compares normalized versus non-normalized Lasso:\n",
    "    - The number non-zero coefficients\n",
    "    - The norm of $\\mathbf w$\n",
    "    - The test RMSE\n",
    "\n",
    "Use $\\alpha = 0.01, 0.05, 0.1, 0.2, 0.3, 1.0$.\n",
    "\n",
    "Can you get all coefficients of $\\mathbf w$ to 0?\n"
   ]
  },
  {
   "cell_type": "code",
   "execution_count": 52,
   "metadata": {
    "deletable": false,
    "nbgrader": {
     "cell_type": "code",
     "checksum": "53111da0a74bc9366690a16d2bd4e674",
     "grade": true,
     "grade_id": "a_1_4",
     "locked": false,
     "points": 5,
     "schema_version": 3,
     "solution": true,
     "task": false
    },
    "pycharm": {
     "name": "#%%\n"
    }
   },
   "outputs": [
    {
     "data": {
      "image/png": "[encoded data removed]",
      "text/plain": [
       "<Figure size 2880x576 with 3 Axes>"
      ]
     },
     "metadata": {
      "needs_background": "light"
     },
     "output_type": "display_data"
    },
    {
     "data": {
      "image/png": "[encoded data removed]",
      "text/plain": [
       "<Figure size 2880x576 with 3 Axes>"
      ]
     },
     "metadata": {
      "needs_background": "light"
     },
     "output_type": "display_data"
    }
   ],
   "source": [
    "alphas = [0.01, 0.05, 0.1, 0.2, 0.3, 1.0]\n",
    "# Workspace 1.4\n",
    "#BEGIN \n",
    "#code here\n",
    "\n",
    "for dataset in [cloud_data, forest_data]:\n",
    "    \n",
    "    non_zero_coef = {\n",
    "        'regular': [],\n",
    "        'normalized': []\n",
    "    }\n",
    "    \n",
    "    norm_w = {\n",
    "        'regular': [],\n",
    "        'normalized': []\n",
    "    }\n",
    "    \n",
    "    RMSE = {\n",
    "        'regular': [],\n",
    "        'normalized': []\n",
    "    }\n",
    "    \n",
    "    for alpha in alphas:\n",
    "        lasso = Lasso(alpha=alpha, normalize=False)\n",
    "        non_zero_coef_curr, norm_w_curr = lasso.fit(dataset.train_x, dataset.train_y)\n",
    "        RMSE_curr = lasso.evaluate(dataset.test_x, dataset.test_y)\n",
    "        \n",
    "        non_zero_coef['regular'].append(non_zero_coef_curr)\n",
    "        norm_w['regular'].append(norm_w_curr)\n",
    "        RMSE['regular'].append(RMSE_curr)\n",
    "        \n",
    "        lasso_norm = Lasso(alpha=alpha, normalize=True)\n",
    "        non_zero_coef_curr, norm_w_curr = lasso_norm.fit(dataset.train_x, dataset.train_y)\n",
    "        RMSE_curr = lasso_norm.evaluate(dataset.test_x, dataset.test_y)\n",
    "        \n",
    "        non_zero_coef['normalized'].append(non_zero_coef_curr)\n",
    "        norm_w['normalized'].append(norm_w_curr)\n",
    "        RMSE['normalized'].append(RMSE_curr)\n",
    "    \n",
    "    \n",
    "    fig, ax = plt.subplots(1, 3, figsize=(40, 8))\n",
    "    \n",
    "    ax[0].plot(alphas, non_zero_coef['regular'], marker='o', label='Non-normalized')\n",
    "    ax[0].plot(alphas, non_zero_coef['normalized'], marker='x', label='Normalized')\n",
    "    ax[0].set_xlabel('alpha')\n",
    "    ax[0].set_ylabel('num non-zero coef')\n",
    "    ax[0].set_title(f'Alpha vs. Num non-zero coef ({dataset.__class__.__name__})')\n",
    "    ax[0].legend()\n",
    "    \n",
    "    ax[1].plot(alphas, norm_w['regular'], marker='o', label='Non-normalized')\n",
    "    ax[1].plot(alphas, norm_w['normalized'], marker='x', label='Normalized')\n",
    "    ax[1].set_xlabel('alpha')\n",
    "    ax[1].set_ylabel('norm w')\n",
    "    ax[1].set_title(f'Alpha vs. norm w ({dataset.__class__.__name__})')\n",
    "    ax[1].legend()\n",
    "    \n",
    "    ax[2].plot(alphas, RMSE['regular'], marker='o', label='Non-normalized')\n",
    "    ax[2].plot(alphas, RMSE['normalized'], marker='x', label='Normalized')\n",
    "    ax[2].set_xlabel('alpha')\n",
    "    ax[2].set_ylabel('RMSE')\n",
    "    ax[2].set_title(f'Alpha vs. RMSE ({dataset.__class__.__name__})')\n",
    "    ax[2].legend()\n",
    "\n",
    "#END"
   ]
  },
  {
   "cell_type": "markdown",
   "metadata": {
    "deletable": false,
    "editable": false,
    "nbgrader": {
     "cell_type": "markdown",
     "checksum": "1b88ff993965cabbc2cc8dec24e20719",
     "grade": false,
     "grade_id": "q1_5",
     "locked": true,
     "schema_version": 3,
     "solution": false,
     "task": false
    }
   },
   "source": [
    "1.5 *[5 points]* (Write-up) Compare the two algorithms on each data set: compare the number of non-zero coordinates of Ridge vs Lasso and their MSE on each dataset.\n",
    "Which type of regression is better for each dataset? When does normalization improve the regression?"
   ]
  },
  {
   "cell_type": "markdown",
   "metadata": {
    "deletable": false,
    "nbgrader": {
     "cell_type": "markdown",
     "checksum": "66769a7f3015b1d06a8a34dd7c6022db",
     "grade": true,
     "grade_id": "a_1_5",
     "locked": false,
     "points": 5,
     "schema_version": 3,
     "solution": true,
     "task": false
    }
   },
   "source": [
    "# Workspace 1.5\n",
    "\n",
    "Write-up answer here"
   ]
  },
  {
   "cell_type": "markdown",
   "metadata": {
    "deletable": false,
    "editable": false,
    "nbgrader": {
     "cell_type": "markdown",
     "checksum": "62516c2fae2591303b30465f93fad79d",
     "grade": false,
     "grade_id": "elastic_intro",
     "locked": true,
     "schema_version": 3,
     "solution": false,
     "task": false
    },
    "pycharm": {
     "name": "#%% md\n"
    }
   },
   "source": [
    "Lasso is expected to have higher level of sparsity compared to Ridge. On the other hand, when the number of features is very large\n",
    "(larger than the sample size), Lasso can struggle at picking the right features.\n",
    "Elastic Net try to combine both types of regularization to get the best of both worlds by minimizing:\n",
    "\n",
    "\\begin{align}\n",
    "\\frac{1}{2N} \\sum_i ||y_i - \\mathbf{w}^Tx_i -b||^2_2 + \\alpha\\beta||\\mathbf{w}||_1 + \\frac{\\alpha}{2}(1 - \\beta)||\\mathbf{w}||^2_2\n",
    "\\end{align}\n",
    "\n",
    "where $\\beta\\in[0,1]$ is the $l_1$ ratio ($\\beta=1$ for Lasso and $\\beta=0$ for Ridge).\n",
    "\n",
    "We'll be using ElasticNet solver from [sklearn](https://scikit-learn.org/stable/modules/generated/sklearn.linear_model.ElasticNet.html).\n",
    "\n",
    "- 1.6 *[5 points]* Complete ElasticNet regression class `Elastic` by implementing fit and evaluate methods with the same signature as Lasso and Ridge."
   ]
  },
  {
   "cell_type": "code",
   "execution_count": null,
   "metadata": {
    "deletable": false,
    "nbgrader": {
     "cell_type": "code",
     "checksum": "7ce4fb7b16dd723b47430cf42d2efa26",
     "grade": false,
     "grade_id": "elastic_code",
     "locked": false,
     "schema_version": 3,
     "solution": true,
     "task": false
    },
    "pycharm": {
     "name": "#%%\n"
    }
   },
   "outputs": [],
   "source": [
    "from sklearn.linear_model import ElasticNet\n",
    "\n",
    "\n",
    "class Elastic(object):\n",
    "    def __init__(self, alpha, beta=0.5, normalize=False):\n",
    "        \"\"\"\n",
    "        :param alpha: regularization parameter\n",
    "        :param beta: l1_ratio for ElasticNet\n",
    "        :param normalize: normalization flag\n",
    "        \"\"\"\n",
    "        self.alpha = alpha\n",
    "        self.beta = beta\n",
    "        self.normalize = normalize\n",
    "        self.scaler = StandardScaler()\n",
    "        self._model = ElasticNet(alpha=alpha, l1_ratio=beta)\n",
    "\n",
    "    def fit(self, X, y):\n",
    "        \"\"\"\n",
    "        fit self._model using the provided data and store the coef and intercept in self.coef_ and self.intercept\n",
    "        Calculate the number of non-zero coefficients in the model weights and the norm using np.linalg.norm\n",
    "        :param X: training features (n_samples, n_features)\n",
    "        :param y: target values (n_samples)\n",
    "        :return: tuple (number of non-zeros coefficients of w, norm of w)\n",
    "        \"\"\"\n",
    "\n",
    "        num_nonzero_coefs, coef_norm = 0, 0\n",
    "        # Workspace 1.6.a\n",
    "        # TO DO: Complete Elastic Net\n",
    "        # TO DO: save w and b in self.coef_ and self.intercept respectively\n",
    "        #BEGIN \n",
    "        #code here\n",
    "        \n",
    "        #END\n",
    "        return num_nonzero_coefs, coef_norm\n",
    "\n",
    "    def evaluate(self, test_x, test_y):\n",
    "        \"\"\"\n",
    "        Compute Root mean square error (RMSE) between the predicted values and the actual values  of the test data\n",
    "        :param test_x: test features\n",
    "        :param test_y: test target\n",
    "        :return: RMSE\n",
    "        \"\"\"\n",
    "\n",
    "        root_mean_squared_error = 0\n",
    "        # Workspace 1.6.b\n",
    "        #BEGIN \n",
    "        #code here\n",
    "        \n",
    "        #END\n",
    "        return root_mean_squared_error"
   ]
  },
  {
   "cell_type": "code",
   "execution_count": null,
   "metadata": {
    "deletable": false,
    "editable": false,
    "nbgrader": {
     "cell_type": "code",
     "checksum": "fb3edd120c47934d858a1f6c3c150748",
     "grade": true,
     "grade_id": "a_1_6",
     "locked": true,
     "points": 5,
     "schema_version": 3,
     "solution": false,
     "task": false
    },
    "pycharm": {
     "name": "#%%\n"
    }
   },
   "outputs": [],
   "source": [
    "# Tests cell, do not remove\n",
    "\n",
    "# Test unnormalized ElasticNet\n",
    "coef_raw = np.array([53.27862827, 10.94209836, 33.96771899])\n",
    "intercept_raw = -7.796083758223746\n",
    "reg = Elastic(alpha=2, beta=0.5, normalize=False)\n",
    "reg.fit(sanity_X, sanity_y)\n",
    "assert np.alltrue(np.isclose(coef_raw, reg.coef_, atol=1e-5)) and np.isclose(intercept_raw, reg.intercept, atol=1e-5)\n",
    "# Test normalized Elastic\n",
    "coef_norm = np.array([48.11601119, 14.15394196, 38.74380055])\n",
    "intercept_norm = -7.502412860000006\n",
    "reg = Elastic(alpha=2, beta=0.5, normalize=True)\n",
    "reg.fit(sanity_X, sanity_y)\n",
    "assert np.alltrue(np.isclose(coef_norm, reg.coef_, atol=1e-5)) and np.isclose(intercept_norm, reg.intercept, atol=1e-5)"
   ]
  },
  {
   "cell_type": "markdown",
   "metadata": {
    "deletable": false,
    "editable": false,
    "nbgrader": {
     "cell_type": "markdown",
     "checksum": "eadf1cfef9555522902ca05b73fb1574",
     "grade": false,
     "grade_id": "q_1_7",
     "locked": true,
     "schema_version": 3,
     "solution": false,
     "task": false
    },
    "pycharm": {
     "name": "#%% md\n"
    }
   },
   "source": [
    "- 1.7 *[5 points]* For each of the datasets, produce 3 plots as a function of $\\alpha$ that compares normalized versus non-normalized ElasticNet:\n",
    "    - The number non-zero coefficients\n",
    "    - The norm of $\\mathbf{w}$\n",
    "    - The test RMSE\n",
    "\n",
    "Use $\\alpha = 0.01, 0.05, 0.1, 0.2, 0.3, 0.5 , 1.0$ and $\\beta= 0.5$."
   ]
  },
  {
   "cell_type": "code",
   "execution_count": null,
   "metadata": {
    "deletable": false,
    "nbgrader": {
     "cell_type": "code",
     "checksum": "0d0d53858ea512d6942bb1e7df9346f3",
     "grade": true,
     "grade_id": "a_1_7",
     "locked": false,
     "points": 5,
     "schema_version": 3,
     "solution": true,
     "task": false
    },
    "pycharm": {
     "name": "#%%\n"
    }
   },
   "outputs": [],
   "source": [
    "alphas = [ 0.01, 0.05, 0.1, 0.2, 0.3, 0.5 , 1.0]\n",
    "beta = 0.5\n",
    "# Workspace 1.7\n",
    "#BEGIN \n",
    "#code here\n",
    "\n",
    "#END"
   ]
  },
  {
   "cell_type": "markdown",
   "metadata": {
    "deletable": false,
    "editable": false,
    "nbgrader": {
     "cell_type": "markdown",
     "checksum": "481fba3e49b1e4d87afb342df753ef9e",
     "grade": false,
     "grade_id": "q_1_8",
     "locked": true,
     "schema_version": 3,
     "solution": false,
     "task": false
    }
   },
   "source": [
    "1.8 *[5 points]* What are the cons and pros of each of three types of regressions we have implemented?"
   ]
  },
  {
   "cell_type": "markdown",
   "metadata": {
    "deletable": false,
    "nbgrader": {
     "cell_type": "markdown",
     "checksum": "a6765fd033bc3c4cba48545212a0ae19",
     "grade": true,
     "grade_id": "a_1_8",
     "locked": false,
     "points": 5,
     "schema_version": 3,
     "solution": true,
     "task": false
    },
    "pycharm": {
     "name": "#%% md\n"
    }
   },
   "source": [
    "# Workspace 1.8\n",
    "\n",
    "Write-up answer here"
   ]
  },
  {
   "cell_type": "markdown",
   "metadata": {
    "deletable": false,
    "editable": false,
    "nbgrader": {
     "cell_type": "markdown",
     "checksum": "15eb1372f75e304dd11532388abde71d",
     "grade": false,
     "grade_id": "problem2",
     "locked": true,
     "schema_version": 3,
     "solution": false,
     "task": false
    }
   },
   "source": [
    "***\n",
    "## Problem 2: Logistic Regression for Binary Classification (35 points)\n",
    "\n",
    "The second part of this assignment will be dealing with Logistic Regression.\n",
    "While the name \"regression\" suggests otherwise, Logistic Regression is actually used for classification.\n",
    "It's a regression problem because the targets are the continuous likelihoods of the outcomes.\n",
    "\n",
    "Our dataset is a subset of the MNIST dataset, which has a higher resolution compared to the sklearn's digits data seen in HW1.\n",
    "\n",
    "In this problem you'll implement a Logistic Regression classifier to take drawings of either an eight\n",
    "or a nine and output the corresponding label."
   ]
  },
  {
   "cell_type": "code",
   "execution_count": null,
   "metadata": {
    "deletable": false,
    "editable": false,
    "nbgrader": {
     "cell_type": "code",
     "checksum": "24e3697dc48400bb0e31ad18c95c2995",
     "grade": false,
     "grade_id": "binary_mnist",
     "locked": true,
     "schema_version": 3,
     "solution": false,
     "task": false
    },
    "pycharm": {
     "name": "#%%\n"
    }
   },
   "outputs": [],
   "source": [
    "class BinaryMNIST:\n",
    "    \"\"\"\n",
    "    Class to store MNIST data for images of 9 and 8 only\n",
    "    \"\"\"\n",
    "    def __init__(self, location='./data/mnist.pklz'):\n",
    "        # You shouldn't have to modify this class\n",
    "        # Load the dataset\n",
    "        with gzip.open(location, 'rb') as f:\n",
    "            self.train_x, self.train_y, self.test_x, self.test_y = pickle.load(f)\n",
    "\n",
    "        train_indices = np.where(self.train_y > 7)\n",
    "        self.train_x, self.train_y = self.train_x[train_indices], self.train_y[train_indices]\n",
    "        self.train_y = self.train_y - 8\n",
    "\n",
    "        test_indices = np.where(self.test_y > 7)\n",
    "        self.test_x, self.test_y = self.test_x[test_indices], self.test_y[test_indices]\n",
    "        self.test_y = self.test_y - 8\n",
    "\n",
    "binary_mnist = BinaryMNIST()"
   ]
  },
  {
   "cell_type": "markdown",
   "metadata": {
    "deletable": false,
    "editable": false,
    "nbgrader": {
     "cell_type": "markdown",
     "checksum": "90448a86a01b09650871ffb7adee4c93",
     "grade": false,
     "grade_id": "q_2_1",
     "locked": true,
     "schema_version": 3,
     "solution": false,
     "task": false
    },
    "pycharm": {
     "name": "#%% md\n"
    }
   },
   "source": [
    "Logistic Regression is about minimizing the negative log likelihood objective defined as:\n",
    "\\begin{align}\n",
    "\\textrm{NLL}(\\mathbf{w}) = -\\frac{1}{N}\\sum_{i=1}^N \\left[y_i \\log \\sigma(\\mathbf{w}^T{x_i}) + (1-y_i)\\log(1 - \\sigma(\\mathbf{w}^Tx_i))\\right]\n",
    "\\end{align}\n",
    "\n",
    "You might be wondering: where is the intercept?\n",
    "We're including the intercept in $(x_i)_i$ since we'll be adding a constant column to the $(x_i)_i$.\n",
    "We will call it the zero-th column and the intercept will be $\\mathbf{w}_0$.\n",
    "\n",
    "$\\sigma$ is the sigmoid function seen in class.\n",
    "\n",
    "The gradient of $NLL$ w.r.t $\\mathbf{w}$ is:\n",
    "\n",
    "\\begin{align}\n",
    "\\frac{\\partial \\textrm{NLL}}{\\partial \\mathbf{w}} = \\frac{1}{N} \\sum_i \\left[\\sigma(\\mathbf{w}^Tx_i)-y_i)\\right]x_i\n",
    "\\end{align}"
   ]
  },
  {
   "cell_type": "markdown",
   "metadata": {
    "deletable": false,
    "editable": false,
    "nbgrader": {
     "cell_type": "markdown",
     "checksum": "152489d1f4d1dec19dae2dad13d66f53",
     "grade": false,
     "grade_id": "questions2",
     "locked": true,
     "schema_version": 3,
     "solution": false,
     "task": false
    },
    "pycharm": {
     "name": "#%% md\n"
    }
   },
   "source": [
    "- 2.1 *[2.5 points]* Finish the `score` function to return the output of applying\n",
    "the dot product of the weights with the input parameter\n",
    "\n",
    "- 2.2 *[2.5 points]* Finish the `sigmoid` function to return the output of applying the sigmoid function to the calculated score\n",
    "\n",
    "- 2.3 *[2.5 points]* Finish the `compute_gradient` function to return the derivative of the cost w.r.t. the weights\n",
    "\n",
    "- 2.4 *[5 points]* Finish the `batch_update` function so that it performs batch gradient descent using the provided batch data\n",
    "\n",
    "- 2.5 *[5 points]* Finish the `fit` function so that it performs several training epochs and returns the Recall score on\n",
    "the validation data at the end of each epoch."
   ]
  },
  {
   "cell_type": "code",
   "execution_count": null,
   "metadata": {
    "deletable": false,
    "nbgrader": {
     "cell_type": "code",
     "checksum": "2b28aba58dcc97863eb02c6937e83997",
     "grade": false,
     "grade_id": "logreg_code",
     "locked": false,
     "schema_version": 3,
     "solution": true,
     "task": false
    },
    "pycharm": {
     "name": "#%%\n"
    }
   },
   "outputs": [],
   "source": [
    "from sklearn.metrics import recall_score\n",
    "\n",
    "class LogisticRegression:\n",
    "\n",
    "    def __init__(self, eta = 0.1, alpha=0):\n",
    "        \"\"\"\n",
    "        Create a logistic regression classifier\n",
    "        :param eta: Learning rate\n",
    "        :param alpha: We will use this parameter later (IN BONUS)\n",
    "        \"\"\"\n",
    "\n",
    "        self.w = None # uninitialized w\n",
    "        self.eta = eta # learning rate\n",
    "        self.alpha = alpha # regularization / penalty term (USED IN BONUS)\n",
    "\n",
    "    def score(self, x):\n",
    "        \"\"\"\n",
    "        :param x: This can be a single training example or it could be n training examples\n",
    "        :return score: Calculate the score that you will plug into the logistic function\n",
    "        \"\"\"\n",
    "\n",
    "        # Workspace 2.1\n",
    "        # TO DO: Compute the score to be fed to the sigmoid function\n",
    "        #BEGIN \n",
    "        #code here\n",
    "        \n",
    "        #END\n",
    "\n",
    "\n",
    "    def sigmoid(self, score, threshold=25.0):\n",
    "        \"\"\"\n",
    "        :param score: Either a real valued number or a vector to convert into a number between 0 and 1\n",
    "        :param threshold : Capping activations at 25 prevent overflow of np.exp() function.\n",
    "        return sigmoid function result.\n",
    "        :return sigmoid: Calculate the output of applying the sigmoid function to the score. This could be a single\n",
    "        value or a vector depending on the input.\n",
    "        \"\"\"\n",
    "        # Workspace 2.2\n",
    "        # TO DO: Complete this function to return the output of applying the sigmoid function to the score\n",
    "        #BEGIN \n",
    "        #code here\n",
    "        \n",
    "        #END\n",
    "\n",
    "    def compute_gradient(self, x, h, y):\n",
    "        \"\"\"\n",
    "        :param x: Feature vector\n",
    "        :param h: the sigmoid of the scores computed from x\n",
    "        :param y: real class label\n",
    "        :return gradient: Return the derivative of the cost w.r.t to the weights. Don't forget to average by batch_size\n",
    "        \"\"\"\n",
    "\n",
    "        # Workspace 2.3\n",
    "        # TO DO: Finish this function to compute the gradient\n",
    "        #BEGIN \n",
    "        #code here\n",
    "        \n",
    "        #END\n",
    "\n",
    "    def batch_update(self, batch_x, batch_y):\n",
    "        \"\"\"\n",
    "        Single self.w update using the batch.\n",
    "        :param batch_x: NumPy array of features (includes the constant feature at position 0)\n",
    "        :param batch_y: Numpy array of target values (size : size of batch )\n",
    "        :return: nothing\n",
    "        \"\"\"\n",
    "\n",
    "        # Workspace 2.4\n",
    "        #BEGIN \n",
    "        #code here\n",
    "        \n",
    "        #END\n",
    "\n",
    "    def fit(self, X, y, epochs=1, batch_size=1, validation_X=None, validation_y=None):\n",
    "        \"\"\"\n",
    "        :param X: training features\n",
    "        :param y: training labels\n",
    "        :param epochs: number of epochs\n",
    "        :param batch_size: size of batch for gradient update\n",
    "        :param validation_X: validation rows, should default to training data if not provided\n",
    "        :param validation_y: validation labels\n",
    "        :return: metric value at the end of each epoch on validation data\n",
    "        \"\"\"\n",
    "\n",
    "        if validation_X is None:\n",
    "            validation_X, validation_y = X, y\n",
    "        metrics = []\n",
    "        # Workspace  2.5\n",
    "        # TO DO: Process x to append the zero-th constant column and call self.optimize\n",
    "        # TO DO: Compute average recall on the validation data at the end of each apoch\n",
    "        # HINT: make sure to initialize w only once since fit might be called several times\n",
    "        #BEGIN \n",
    "        #code here\n",
    "        \n",
    "        #END\n",
    "        return np.array(metrics)\n",
    "\n",
    "    def predict(self, test_x):\n",
    "        \"\"\"\n",
    "        :param test_x: n rows to predict on\n",
    "        :return: n predicted labels\n",
    "        \"\"\"\n",
    "        X = np.concatenate([np.ones((test_x.shape[0],1)), test_x], axis=1)\n",
    "        return np.round(self.sigmoid(self.score(X))).astype(int)\n",
    "\n",
    "    def optimize(self, X, y, batch_size):\n",
    "        \"\"\"\n",
    "        Perform one epoch batch gradient on shuffled data\n",
    "        :param X: The training data  with zero-th column\n",
    "        :param y: target values\n",
    "        :param batch_size: batch_size of the batch_update\n",
    "        :return: None\n",
    "        \"\"\"\n",
    "        indices = np.random.permutation(len(X))\n",
    "        for i in range(0, X.shape[0], batch_size):\n",
    "            batch_x = X[indices[i:i+batch_size]]\n",
    "            batch_y = y[indices[i:i+batch_size]]\n",
    "            self.batch_update(batch_x, batch_y)\n"
   ]
  },
  {
   "cell_type": "code",
   "execution_count": null,
   "metadata": {
    "deletable": false,
    "editable": false,
    "nbgrader": {
     "cell_type": "code",
     "checksum": "f98e34f2c24f0503ded48e8ab26ac7dc",
     "grade": true,
     "grade_id": "logreg_test",
     "locked": true,
     "points": 17.5,
     "schema_version": 3,
     "solution": false,
     "task": false
    }
   },
   "outputs": [],
   "source": [
    "# test cell, do no remove"
   ]
  },
  {
   "cell_type": "markdown",
   "metadata": {
    "deletable": false,
    "editable": false,
    "nbgrader": {
     "cell_type": "markdown",
     "checksum": "594da6f92db91c59840d8e66a99978df",
     "grade": false,
     "grade_id": "q_2_6",
     "locked": true,
     "schema_version": 3,
     "solution": false,
     "task": false
    }
   },
   "source": [
    "After completing the class above, loop over the training data and perform batch training with `batch_size=1`for 10 epochs,\n",
    "and five different values of eta range [.0001, .01, .1, .5, 1]. Train your model and do the following:\n",
    "\n",
    "- 2.6 *[5 points]* Create a new classifier object and Using the `fit` method, plot the recall trend for the different values of eta\n",
    "on the training data. (reset random seed for each loop to mitigate the randomness effect)"
   ]
  },
  {
   "cell_type": "code",
   "execution_count": null,
   "metadata": {
    "deletable": false,
    "nbgrader": {
     "cell_type": "code",
     "checksum": "c3d430129e5155f455157c429a8c25c3",
     "grade": true,
     "grade_id": "a2_6",
     "locked": false,
     "points": 5,
     "schema_version": 3,
     "solution": true,
     "task": false
    },
    "pycharm": {
     "name": "#%%\n"
    }
   },
   "outputs": [],
   "source": [
    "etas = [.0001,.001,.01, 1, 5]\n",
    "\n",
    "for eta in etas:\n",
    "    np.random.seed(42) # Reset randomness\n",
    "    # Workspace 2.6\n",
    "    #BEGIN \n",
    "    #code here\n",
    "    \n",
    "    #END\n",
    "plt.legend()\n",
    "plt.show()"
   ]
  },
  {
   "cell_type": "markdown",
   "metadata": {
    "deletable": false,
    "editable": false,
    "nbgrader": {
     "cell_type": "markdown",
     "checksum": "58f18af52fb0d1e5b8233c70501c81bf",
     "grade": false,
     "grade_id": "q2_7",
     "locked": true,
     "schema_version": 3,
     "solution": false,
     "task": false
    }
   },
   "source": [
    "- 2.7 *[2.5 points]* Create a new classifier object and Using the `fit` method, plot the recall on the test data as function eta.\n",
    "(reset random seed for each loop to mitigate the randomness effect)"
   ]
  },
  {
   "cell_type": "code",
   "execution_count": null,
   "metadata": {
    "deletable": false,
    "nbgrader": {
     "cell_type": "code",
     "checksum": "5f06c3d4807dea4730d08080ee1b9f01",
     "grade": true,
     "grade_id": "a_2_7",
     "locked": false,
     "points": 2.5,
     "schema_version": 3,
     "solution": true,
     "task": false
    },
    "pycharm": {
     "name": "#%%\n"
    }
   },
   "outputs": [],
   "source": [
    "etas = [.0001,.001,.01, 1, 5]\n",
    "\n",
    "for eta in etas:\n",
    "    np.random.seed(42)\n",
    "    # Workspace 2.7\n",
    "    #BEGIN \n",
    "    #code here\n",
    "    \n",
    "    #END\n",
    "plt.legend()\n",
    "plt.show()"
   ]
  },
  {
   "cell_type": "markdown",
   "metadata": {
    "deletable": false,
    "editable": false,
    "nbgrader": {
     "cell_type": "markdown",
     "checksum": "c5a6bbb794aba57089e8a483417abc85",
     "grade": false,
     "grade_id": "q_2_8",
     "locked": true,
     "schema_version": 3,
     "solution": false,
     "task": false
    }
   },
   "source": [
    "This time we want to analyze the effect of varying the batch size. We fix `eta=0.1` and `epochs=10` and we want to\n",
    "examine the recall on the test set at the end of the training for `batch_size` in [1, 2, 4, 8, 12, 16].\n",
    "\n",
    "2.8 *[5 points]* Produce a plot of the recall at the end of the training as a function of the batch size. Reset the random generator before each you compute the recalls for each batch size.\n"
   ]
  },
  {
   "cell_type": "code",
   "execution_count": null,
   "metadata": {
    "deletable": false,
    "nbgrader": {
     "cell_type": "code",
     "checksum": "4c6e0a505bc2649ef9b3899f59bf1447",
     "grade": true,
     "grade_id": "a_2_8",
     "locked": false,
     "points": 5,
     "schema_version": 3,
     "solution": true,
     "task": false
    },
    "pycharm": {
     "name": "#%%\n"
    }
   },
   "outputs": [],
   "source": [
    "batch_sizes= [1, 2, 4, 8, 12, 16]\n",
    "recalls = []\n",
    "\n",
    "for batch_size in batch_sizes:\n",
    "    np.random.seed(42)\n",
    "    # Workspace 2.8\n",
    "    #BEGIN \n",
    "    #code here\n",
    "    \n",
    "    #END\n",
    "plt.plot(batch_sizes, recalls)\n",
    "plt.show()"
   ]
  },
  {
   "cell_type": "markdown",
   "metadata": {
    "deletable": false,
    "editable": false,
    "nbgrader": {
     "cell_type": "markdown",
     "checksum": "39a9086fa990a52f8198609b442741ac",
     "grade": false,
     "grade_id": "q_2_9",
     "locked": true,
     "schema_version": 3,
     "solution": false,
     "task": false
    }
   },
   "source": [
    "2.9 *[5 points]* How does the learning rate (eta) and the number of epochs in the performance of the classifier."
   ]
  },
  {
   "cell_type": "markdown",
   "metadata": {
    "deletable": false,
    "nbgrader": {
     "cell_type": "markdown",
     "checksum": "49a07864fcf990929ad5ffcd14c872c0",
     "grade": true,
     "grade_id": "a_2_9",
     "locked": false,
     "points": 5,
     "schema_version": 3,
     "solution": true,
     "task": false
    }
   },
   "source": [
    "% Workspace 2.9\n",
    "\n",
    "Write-up answer here"
   ]
  },
  {
   "cell_type": "markdown",
   "metadata": {
    "deletable": false,
    "editable": false,
    "nbgrader": {
     "cell_type": "markdown",
     "checksum": "cceefe20cd2b68163ec8e7c7a63c6a33",
     "grade": false,
     "grade_id": "q2_10",
     "locked": true,
     "schema_version": 3,
     "solution": false,
     "task": false
    },
    "pycharm": {
     "name": "#%% md\n"
    }
   },
   "source": [
    "2.10 (Bonus) *[5 points]* Since we're done with the binary regression, we will try to add Ridge regularization:\n",
    "\\begin{align}\n",
    "\\textrm{NLL}(w) = -\\frac{1}{N}\\sum_{i=1}^N \\left[y_i \\log \\sigma(\\mathbf{w}^T{x_i}) + (1-y_i)\\log(1 - \\sigma(\\mathbf{w}^Tx_i))\\right] + \\alpha {||\\mathbf{w}||^2}_{\\geq1}\n",
    "\\end{align}\n",
    "\n",
    "This is exactly what we will be using the `alpha` parameter in `LogisticRegression` for.\n",
    "First, write the gradient formula in the cell below and edit your `compute_gradient` to account for the regularization term. Note that the regularization $||w||^2$ does not apply to the intercept $\\mathbf{w}_0$"
   ]
  },
  {
   "cell_type": "markdown",
   "metadata": {
    "deletable": false,
    "nbgrader": {
     "cell_type": "markdown",
     "checksum": "f344ec39a4729b4902e3738db5e6ddbf",
     "grade": true,
     "grade_id": "a2_10",
     "locked": false,
     "points": 5,
     "schema_version": 3,
     "solution": true,
     "task": false
    }
   },
   "source": [
    "% Workspace 2.10\n",
    "\n",
    "Write-up answer here\n",
    "\n"
   ]
  },
  {
   "cell_type": "markdown",
   "metadata": {
    "deletable": false,
    "editable": false,
    "nbgrader": {
     "cell_type": "markdown",
     "checksum": "4f8d02ef4c9ed919cde0ce25de97e809",
     "grade": false,
     "grade_id": "cell-2b53d5d40987324e",
     "locked": true,
     "schema_version": 3,
     "solution": false,
     "task": false
    }
   },
   "source": [
    "## Problem 3: Logistic Regression for Multiclass Classification (25)\n",
    "\n",
    "You will now create a classifier that is commonly referred to as _One Versus All_ Logistic Regression,\n",
    "where a binary classifier will be trained to identify a single class. The prediction is performed by assigning the label\n",
    "of the classifier that is most confident in its prediction (the highest score).\n",
    "\n",
    "The dataset will be a restricted version of the MNIST dataset which digits 3,7,8,9. You are free to use the functions you created above as needed."
   ]
  },
  {
   "cell_type": "code",
   "execution_count": null,
   "metadata": {
    "deletable": false,
    "editable": false,
    "nbgrader": {
     "cell_type": "code",
     "checksum": "d9d96ef081f3bc7e1f216debe14c5b39",
     "grade": false,
     "grade_id": "mnist",
     "locked": true,
     "schema_version": 3,
     "solution": false,
     "task": false
    },
    "pycharm": {
     "name": "#%%\n"
    }
   },
   "outputs": [],
   "source": [
    "class MNIST:\n",
    "    \"\"\"\n",
    "    Class to store MNIST data for images of 3,7,8,9\n",
    "    \"\"\"\n",
    "    def __init__(self, location=\"data/mnist.pklz\"):\n",
    "        # You shouldn't have to modify this class\n",
    "        # Load the dataset\n",
    "        with gzip.open(location, 'rb') as f:\n",
    "            self.train_x, self.train_y, self.test_x, self.test_y = pickle.load(f)\n",
    "mnist = MNIST()"
   ]
  },
  {
   "cell_type": "markdown",
   "metadata": {
    "deletable": false,
    "editable": false,
    "nbgrader": {
     "cell_type": "markdown",
     "checksum": "98ed5f14f6f2eabe44f322a259c8d98a",
     "grade": false,
     "grade_id": "questions3",
     "locked": true,
     "schema_version": 3,
     "solution": false,
     "task": false
    },
    "pycharm": {
     "name": "#%% md\n"
    }
   },
   "source": [
    "- 3.1 *[2.5 points]* Complete `one_hot_encoding`to transform your integer labels into a set of binary features via one-hot encoding.\n",
    "* 3.2 *[2.5 points]* Complete `normalize_data` to normalize your features. You can use `StandardScaler`\n",
    "* 3.3 *[5 points]* Complete `predict` method to return the predicted label using the scores from each class classifier\n",
    "* 3.4 *[2.5 points]* Complete `evaluate` to return the weighted average recall (WAR) on the validation data (use `recall_score`)\n",
    "* 3.5 *[5 points]* Complete `fit` function to fit all 4 classifiers with their corresponding labels and compute the WAR at the end of each epoch"
   ]
  },
  {
   "cell_type": "code",
   "execution_count": null,
   "metadata": {
    "deletable": false,
    "nbgrader": {
     "cell_type": "code",
     "checksum": "23995cea88c99657c23451bcd35d804b",
     "grade": false,
     "grade_id": "ova_code",
     "locked": false,
     "schema_version": 3,
     "solution": true,
     "task": false
    },
    "pycharm": {
     "name": "#%%\n"
    }
   },
   "outputs": [],
   "source": [
    "class OneVersusAll(object):\n",
    "\n",
    "    def __init__(self, eta = 0.1, alpha=0):\n",
    "        self.eta = eta # Learning Rate\n",
    "        self.classifiers = [] # Array of LogisticRegression classifiers\n",
    "        self.label_to_index = {3:0, 7:1, 8:2, 9:3} # dictionary mapping MNIST labels to array indices 0 - 3\n",
    "        self.index_to_label = {v:k for k,v in self.label_to_index.items()} # dictionary mapping array indices 0 - 3 \n",
    "            # to MNIST labels\n",
    "        self.alpha = alpha # regularization / penalty rate (USED IN BONUS)\n",
    "        self.scaler = StandardScaler()\n",
    "        self.fitted = False # Flag to store wether the model is already fitted to avoid fitting scaler more than once\n",
    "\n",
    "    def one_hot_encoding(self, y):\n",
    "        one_hot_encode = []\n",
    "        # Workspace 3.1\n",
    "        # TO DO: Represent the output vector y as a one hot encoding. Create a matrix of dimensions (m X 4)\n",
    "        # where m = number of examples, and 4 for number of classes\n",
    "        # if the class for the ith example is 7, then y[i][label_to_index[7]] = 1 and the for k != 1, y[i][k] = 0.\n",
    "        #BEGIN \n",
    "        #code here\n",
    "        \n",
    "        #END\n",
    "        return np.array(one_hot_encode)\n",
    "\n",
    "    def normalize_data(self, X):\n",
    "        \"\"\"\n",
    "        Fit scaler if it hasn't been done yet and normalize X\n",
    "        :param X: Raw features.\n",
    "        :return: Normalized feautures\n",
    "        \"\"\"\n",
    "        # Workspace 3.2\n",
    "        # TO DO: Normalize the feature values of dataset X, you have to keep track of the mean and variance\n",
    "        #BEGIN \n",
    "        #code here\n",
    "        \n",
    "        #END\n",
    "        return X\n",
    "\n",
    "    def predict(self, test_x):\n",
    "        # Workspace 3.3\n",
    "        # TO DO: Normalize test_x, process it and return the predicted label using the scores from classifiers\n",
    "        #BEGIN \n",
    "        #code here\n",
    "        \n",
    "        #END\n",
    "\n",
    "    def evaluate(self, test_x, test_y):\n",
    "        # Workspace 3.4\n",
    "        #BEGIN \n",
    "        #code here\n",
    "        \n",
    "        #END\n",
    "\n",
    "    def fit(self, X, y, batch_size=12, epochs=10, validation_X=None, validation_y=None):\n",
    "        metrics = []\n",
    "        if validation_X is None:\n",
    "            validation_X, validation_y = X, y\n",
    "        # Workspace 3.5\n",
    "        # TO DO: Compute Weighted Average Recall at the end of each epoch\n",
    "        # TO DO: Process training data and use it to fit self.classifiers and compute the metrics every epoch\n",
    "        #BEGIN \n",
    "        #code here\n",
    "        \n",
    "        #END\n",
    "        return metrics\n"
   ]
  },
  {
   "cell_type": "code",
   "execution_count": null,
   "metadata": {
    "deletable": false,
    "editable": false,
    "nbgrader": {
     "cell_type": "code",
     "checksum": "3d51c67f1ad098fe815bc7acf7714f78",
     "grade": true,
     "grade_id": "ova_test1",
     "locked": true,
     "points": 17.5,
     "schema_version": 3,
     "solution": false,
     "task": false
    },
    "pycharm": {
     "name": "#%%\n"
    }
   },
   "outputs": [],
   "source": [
    "# This cell will be used for tests\n",
    "# Do not remove"
   ]
  },
  {
   "cell_type": "markdown",
   "metadata": {
    "deletable": false,
    "editable": false,
    "nbgrader": {
     "cell_type": "markdown",
     "checksum": "de50e24afb5090f3e49f52b85c68121f",
     "grade": false,
     "grade_id": "q_3_6",
     "locked": true,
     "schema_version": 3,
     "solution": false,
     "task": false
    },
    "pycharm": {
     "name": "#%% md\n"
    }
   },
   "source": [
    "- 3.6 *[5 points]* Train `OneVersusAll` for 36 epochs using eta=0.1 and batch_size = 12. In the same figure, plot:\n",
    "    - The WAR metric on the mnist training data at the end of each epoch\n",
    "    - The WAR metric on the mnist test data at the end of each epoch\n",
    "\n",
    "You might need to adapt LogisticRegression so that fit method can be called multiple times without\n",
    "losing the weights from previous batch gradients.\n",
    "\n",
    "For a fair comparison, call `np.random.seed(42)` before each `fit` to reset the random generator."
   ]
  },
  {
   "cell_type": "code",
   "execution_count": null,
   "metadata": {
    "deletable": false,
    "nbgrader": {
     "cell_type": "code",
     "checksum": "1314b3c1f786789851a461bfcaebe9cb",
     "grade": true,
     "grade_id": "a_3_6",
     "locked": false,
     "points": 5,
     "schema_version": 3,
     "solution": true,
     "task": false
    },
    "pycharm": {
     "name": "#%%\n"
    }
   },
   "outputs": [],
   "source": [
    "epochs = 36\n",
    "eta = 0.1\n",
    "batch_size = 12\n",
    "# Workspace 3.6\n",
    "#BEGIN \n",
    "#code here\n",
    "\n",
    "#END"
   ]
  },
  {
   "cell_type": "markdown",
   "metadata": {
    "deletable": false,
    "editable": false,
    "nbgrader": {
     "cell_type": "markdown",
     "checksum": "391bea81bf432810cbeee1cb9933b7bb",
     "grade": false,
     "grade_id": "q_3_7",
     "locked": true,
     "schema_version": 3,
     "solution": false,
     "task": false
    },
    "pycharm": {
     "name": "#%% md\n"
    }
   },
   "source": [
    "- 3.7 *[2.5 points]* Does the WAR improve as we train for more epochs on the two data partitions (train, test)? Why?"
   ]
  },
  {
   "cell_type": "markdown",
   "metadata": {
    "deletable": false,
    "nbgrader": {
     "cell_type": "markdown",
     "checksum": "e376c912c019ca91a65b534c47361cfe",
     "grade": true,
     "grade_id": "a_3_7",
     "locked": false,
     "points": 2.5,
     "schema_version": 3,
     "solution": true,
     "task": false
    },
    "pycharm": {
     "name": "#%%\n"
    }
   },
   "source": [
    "% Workspace 3.7\n",
    "\n",
    "Write-up answer here"
   ]
  },
  {
   "cell_type": "markdown",
   "metadata": {
    "deletable": false,
    "editable": false,
    "nbgrader": {
     "cell_type": "markdown",
     "checksum": "aec118dc6a65fcfad0edbbba156e155b",
     "grade": false,
     "grade_id": "q_3_8",
     "locked": true,
     "schema_version": 3,
     "solution": false,
     "task": false
    }
   },
   "source": [
    "- 3.8 (Bonus)*[5 points]* Repeat 3.6 and 3.7 using Ridge regularization for the LogisticRegression classifiers with alpha=1. How does the regularization affect the performance on train VS test sets?\n",
    "\n",
    "You have to answer 2.10 before you attempt this question."
   ]
  },
  {
   "cell_type": "code",
   "execution_count": null,
   "metadata": {
    "deletable": false,
    "nbgrader": {
     "cell_type": "code",
     "checksum": "b4ab4714bb8fdb5a27cc9aa4f552e0d1",
     "grade": true,
     "grade_id": "a_3_8_a",
     "locked": false,
     "points": 2.5,
     "schema_version": 3,
     "solution": true,
     "task": false
    },
    "pycharm": {
     "name": "#%%\n"
    }
   },
   "outputs": [],
   "source": [
    "epochs = 36\n",
    "eta = 0.1\n",
    "batch_size = 12\n",
    "alpha = 1.0\n",
    "# Workspace 3.8 (code)\n",
    "#BEGIN \n",
    "#code here\n",
    "\n",
    "#END\n"
   ]
  },
  {
   "cell_type": "markdown",
   "metadata": {
    "deletable": false,
    "nbgrader": {
     "cell_type": "markdown",
     "checksum": "04ab9667a91bb0fd53a8a1cdc7c3dbfe",
     "grade": true,
     "grade_id": "a3_8_b",
     "locked": false,
     "points": 2.5,
     "schema_version": 3,
     "solution": true,
     "task": false
    }
   },
   "source": [
    "% Workspace 3.8 (write up)\n",
    "\n",
    "Write-up answer here"
   ]
  }
 ],
 "metadata": {
  "kernelspec": {
   "display_name": "Python 3",
   "language": "python",
   "name": "python3"
  },
  "language_info": {
   "codemirror_mode": {
    "name": "ipython",
    "version": 3
   },
   "file_extension": ".py",
   "mimetype": "text/x-python",
   "name": "python",
   "nbconvert_exporter": "python",
   "pygments_lexer": "ipython3",
   "version": "3.8.5"
  }
 },
 "nbformat": 4,
 "nbformat_minor": 4
}
