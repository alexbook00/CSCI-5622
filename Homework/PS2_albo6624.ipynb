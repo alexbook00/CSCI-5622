{
 "cells": [
  {
   "cell_type": "markdown",
   "metadata": {},
   "source": [
    "# Problem Set 2 - Naive Bayes, Decision Trees with ensemble methods\n",
    "## CSCI 5622 - Fall 2021\n",
    "***\n",
    "**Name**: Alex Book\n",
    "***\n",
    "\n",
    "This assignment is due on Canvas by **3:55PM on October 7th**.\n",
    "\n",
    "Submit only this Jupyter notebook to Canvas. Do not compress it using tar, rar, zip, etc.\n",
    "Your solutions to analysis questions should be done in Markdown directly below the associated question.\n",
    "\n",
    "Remember that you are encouraged to discuss the problems with your classmates and instructors, \n",
    "but **you must write all code and solutions on your own**, and list any people or sources consulted.\n",
    "The only exception to this rule is that you may copy code directly from your own solution to homework 1.\n",
    "***"
   ]
  },
  {
   "cell_type": "markdown",
   "metadata": {},
   "source": [
    "## Overview \n",
    "\n",
    "Your task for this homework is to build a naive Bayes and a decision tree classifiers in the first 2 problems.\n",
    "The last problem is about ensemble methods using scikit-learn decision tree as a weak learner.\n",
    "We'll explore bagging, boosting (AdaBoost) and Random Forest."
   ]
  },
  {
   "cell_type": "code",
   "execution_count": 1,
   "metadata": {
    "pycharm": {
     "is_executing": true,
     "name": "#%%\n"
    }
   },
   "outputs": [],
   "source": [
    "import numpy as np\n",
    "import matplotlib.pylab as plt\n",
    "import pickle\n",
    "from sklearn.metrics import precision_score\n",
    "from sklearn.tree import DecisionTreeClassifier\n",
    "import pandas as pd\n",
    "from time import time\n",
    "%matplotlib inline "
   ]
  },
  {
   "cell_type": "markdown",
   "metadata": {},
   "source": [
    "### Problem 1 - Naive Bayes [25 points]\n",
    "***\n",
    "Consider the problem of predicting whether a person has a college degree based on age, salary, and Colorado residency.\n",
    "The dataset looks like the following.\n",
    "\n",
    "|Age|Salary|Colorado Residency| College degree|\n",
    "|:------:|:-----------:| :----------:|--:|\n",
    "| 27 | 41,000 | Yes | Yes |\n",
    "| 61 | 52,000 | No | No |\n",
    "| 23 | 24,000 | Yes | No |\n",
    "| 29 | 77,000 | Yes | Yes |\n",
    "| 32 | 48,000 | No | Yes |\n",
    "| 57 | 120,000 | Yes | Yes |\n",
    "| 22 | 38,000 | Yes | Yes |\n",
    "| 41 | 45,000 | Yes | No |\n",
    "| 53 | 26,000 | No | No |\n",
    "| 48 | 65,000 | Yes | Yes |\n"
   ]
  },
  {
   "cell_type": "code",
   "execution_count": 2,
   "metadata": {
    "pycharm": {
     "name": "#%%\n"
    }
   },
   "outputs": [],
   "source": [
    "features = np.array([[27 , 41000 , 1],\n",
    "              [61 , 52000 , 0],\n",
    "              [23 , 24000 , 1],\n",
    "              [29 , 77000 , 1],\n",
    "              [32 , 48000 , 0],\n",
    "              [57 , 120000 , 1],\n",
    "              [22 , 38000 , 1],\n",
    "              [41 , 45000 , 1],\n",
    "              [53 , 26000 , 0],\n",
    "              [48 , 65000 , 1]])\n",
    "labels = np.array([1, 0, 0, 1, 1, 1, 1, 0, 0, 1])"
   ]
  },
  {
   "cell_type": "markdown",
   "metadata": {
    "pycharm": {
     "name": "#%% md\n"
    }
   },
   "source": [
    "1.1 What is our expected accuracy for the baseline case where we predict one label for all rows? (*2 points*)"
   ]
  },
  {
   "cell_type": "markdown",
   "metadata": {
    "pycharm": {
     "name": "#%% md\n"
    }
   },
   "source": [
    "#BEGIN Workspace 1.1\n",
    "\n",
    "The expected accuracy for this baseline case is 60%, as we'll guess \"yes\" and get 6 out of the total 10 correct.\n",
    "\n",
    "#END Workspace 1.1"
   ]
  },
  {
   "cell_type": "markdown",
   "metadata": {
    "pycharm": {
     "name": "#%% md\n"
    }
   },
   "source": [
    "First, we have to find a way to deal with the continuous features. For now, let's put them into binary bins based on threshold arguments to our classifier - so we can treat this as a tuning parameter.\n",
    "\n",
    "1.2 Complete `threshold_features` to convert age and salary features to binary ones using the threshold arguments. (*3 points*)"
   ]
  },
  {
   "cell_type": "code",
   "execution_count": 3,
   "metadata": {
    "pycharm": {
     "name": "#%%\n"
    }
   },
   "outputs": [],
   "source": [
    "def threshold_features(features, age_threshold, salary_threshold):\n",
    "    binary_features = features * 1 #This row just creates a \"hard copy\" of the X array so we can manipulate it as needed\n",
    "\n",
    "    #BEGIN Workspace 1.2\n",
    "    #TODO: Threshold the corresponding features\n",
    "    \n",
    "    for i in range(len(features)):\n",
    "        binary_features[i][0] = 1 if features[i][0] > age_threshold else 0\n",
    "        binary_features[i][1] = 1 if features[i][1] > salary_threshold else 0\n",
    "\n",
    "    #END Workspace 1.2\n",
    "\n",
    "    return binary_features"
   ]
  },
  {
   "cell_type": "markdown",
   "metadata": {
    "pycharm": {
     "name": "#%% md\n"
    }
   },
   "source": [
    "As seen during the class, given a row $(x_1, x_2, x_3)$, the naive Bayes classifier should assign the label $y$ that\n",
    "maximizes:\n",
    "\n",
    "\\begin{align}\n",
    "\\log [p(y) \\prod_i p(x_i | y)] = \\log p(y) + \\sum_{i} \\log p(x_i | y)\n",
    "\\end{align}\n",
    "\n",
    "$p(y)$ and $p(x_i | y)$ are computed using the training set (during `fit` call).\n",
    "\n",
    "We have defined $p(x_i | y)$ as :\n",
    "\\begin{align}\n",
    "p(x_i | y) = \\frac{N_{y,i}}{N_y}\n",
    "\\end{align}\n",
    "where $N_{y,i}$ is the number of rows where $y$ and $x_i$ occur together, and $N_y = \\sum_i N_{y,i}$.\n",
    "\n",
    "1.3 Complete the `fit` call by computing the counts and joint counts. Hint: Use `features_counts` to store the contingency\n",
    "table $N_{y,i}$ for each feature $i$ and then use them to compute $\\log p(x_i | y)$ (*10 points*)\n",
    "\n",
    "1.4 Complete the `predict` call (*5 points*)"
   ]
  },
  {
   "cell_type": "code",
   "execution_count": 4,
   "metadata": {
    "pycharm": {
     "name": "#%%\n"
    }
   },
   "outputs": [],
   "source": [
    "class NaiveBayes(object):\n",
    "    \"\"\"\n",
    "    NaiveBayes classifier for binary features and binary labels\n",
    "    \"\"\"\n",
    "\n",
    "    def __init__(self, alpha=0.0):\n",
    "        self.alpha = alpha\n",
    "        self.classes_counts = None\n",
    "        self.features_counts = []\n",
    "        self.classes_log_probabilities = None\n",
    "        self.features_log_probabilities = [] # same structure as features_count\n",
    "\n",
    "    def fit(self, X, y):\n",
    "        \"\"\"\n",
    "\n",
    "        Parameters\n",
    "        ----------\n",
    "        X: binary np.array of shape (n_samples, n_features)\n",
    "        y: corresponding labels of shape (n_samples,)\n",
    "        Returns\n",
    "        -------\n",
    "        Trained classifier\n",
    "        \"\"\"\n",
    "\n",
    "        #BEGIN Workspace 1.3\n",
    "\n",
    "        #TODO: Compute the counts and joint counts\n",
    "        \n",
    "        n_samples, n_features = X.shape[0], X.shape[1]\n",
    "        n_classes = np.unique(y).shape[0]\n",
    "        \n",
    "        self.classes_counts = np.zeros(n_classes)\n",
    "        # 2 is the number of values that each feature can be\n",
    "        self.features_counts = np.zeros((n_features, n_classes, 2))\n",
    "        \n",
    "        for i in range(n_samples):\n",
    "            label = y[i]\n",
    "            self.classes_counts[label] += 1\n",
    "            for j in range(n_features):\n",
    "                self.features_counts[j][label][X[i][j]] += 1\n",
    "                \n",
    "        self.features_log_probabilities = np.log2(self.features_counts / n_samples)\n",
    "        self.classes_log_probabilities = np.log2(self.classes_counts / n_samples)\n",
    " \n",
    "        #END Workspace 1.3\n",
    "\n",
    "        return self\n",
    "\n",
    "    def predict(self, x_test):\n",
    "        joint_log_likelihood = np.zeros((x_test.shape[0], self.classes_counts.shape[0]))\n",
    "        y_hat = 0\n",
    "        #BEGIN Workspace 1.4\n",
    "        #TODO: Find the corresponding labels using Naive bayes logic\n",
    "        \n",
    "        j_l_l = np.zeros(self.classes_counts.shape[0])\n",
    "        for i in range(self.classes_counts.shape[0]):\n",
    "            curr_prob = self.classes_log_probabilities[i]\n",
    "            for j in range(self.features_counts.shape[0]):\n",
    "                curr_prob += self.features_log_probabilities[j][i][x_test[j]]\n",
    "            j_l_l[i] = curr_prob\n",
    "        \n",
    "        y_hat = np.argmax(j_l_l)\n",
    "        \n",
    "        #END Workspace 1.4\n",
    "        return y_hat\n"
   ]
  },
  {
   "cell_type": "markdown",
   "metadata": {
    "pycharm": {
     "name": "#%% md\n"
    }
   },
   "source": [
    "1.5 Using age 30 and salary 40,000 as thresholds, transform the features and evaluate (accuracy) the NaiveBayes classifier\n",
    "on the training data. (*5 points*)"
   ]
  },
  {
   "cell_type": "code",
   "execution_count": 5,
   "metadata": {
    "pycharm": {
     "name": "#%%\n"
    }
   },
   "outputs": [
    {
     "name": "stdout",
     "output_type": "stream",
     "text": [
      "Accuracy on training data: 70.0%\n"
     ]
    }
   ],
   "source": [
    "clf = NaiveBayes()\n",
    "#BEGIN Workspace 1.5\n",
    "#TODO: Transform features to binary features, fit the classifier, report the accuracy\n",
    "binary_features = threshold_features(features, 30, 40000)\n",
    "clf.fit(binary_features, labels)\n",
    "\n",
    "accuracy = 0\n",
    "for i in range(len(binary_features)):\n",
    "    prediction = clf.predict(binary_features[i])\n",
    "    label = labels[i]\n",
    "    if prediction == label:\n",
    "        accuracy += 1/len(binary_features)\n",
    "#     print(f\"prediction: {clf.predict(binary_features[i])}, label: {labels[i]}\")\n",
    "    \n",
    "print(f\"Accuracy on training data: {accuracy*100}%\")\n",
    "\n",
    "#END Workspace 1.5"
   ]
  },
  {
   "cell_type": "markdown",
   "metadata": {
    "pycharm": {
     "name": "#%% md\n"
    }
   },
   "source": [
    "**Bonus question** 1.6 Use the attribute `alpha` of the NaiveBayes to convert it to the smoothed NaiveBayes presented during the class. (*5 points*)"
   ]
  },
  {
   "cell_type": "markdown",
   "metadata": {
    "pycharm": {
     "name": "#%% md\n"
    }
   },
   "source": [
    "### Problem 2 - Decision trees [25 points]\n",
    "***\n",
    "The goal of this problem is to implement the core elements of the Decision Tree classifier.\n",
    "We do not expect a highly efficient implementation of the functions since the ensemble methods will use the implementation\n",
    "from scikit-learn."
   ]
  },
  {
   "cell_type": "markdown",
   "metadata": {},
   "source": [
    "We start by considering the variable *Colorado residency*.\n",
    "\n",
    "The leaf nodes of a decision tree act in the same way as in question (1.1) where no feature is used.\n",
    "\n",
    "2.1 Complete `get_error_in_leaf` to return the count of misclassified instances. (*3 points*)"
   ]
  },
  {
   "cell_type": "code",
   "execution_count": 6,
   "metadata": {
    "pycharm": {
     "name": "#%%\n"
    }
   },
   "outputs": [],
   "source": [
    "def get_error_in_leaf(y, indices):\n",
    "    \"\"\"\n",
    "    :param y: all labels\n",
    "    :param indices: the subset of indexes in the leaf node\n",
    "    :return: Returns the number of errors in a leaf node of a decision tree.\n",
    "    \"\"\"\n",
    "\n",
    "    error_count = 0\n",
    "    #BEGIN Workspace 2.1\n",
    "    #TODO: Compute the number of errors in the leaf node (no feature is used)\n",
    "    \n",
    "    label_count = np.zeros(len(y))\n",
    "    for index in indices:\n",
    "        label_count[y[index]] += 1\n",
    "        \n",
    "    node_label = np.argmax(label_count)\n",
    "    \n",
    "    for index in indices:\n",
    "        if y[index] != node_label:\n",
    "            error_count += 1\n",
    "    \n",
    "    #END Workspace 2.1\n",
    "    return error_count\n",
    "\n",
    "\n",
    "def value_split_binary_feature(x, y, feature_index, root, criteria_func):\n",
    "    \"\"\"Will be used later to evaluate the criteria gain\"\"\"\n",
    "    left_child = [i for i in root if x[i, feature_index] == 0]\n",
    "    right_child = [i for i in root if x[i, feature_index] == 1]\n",
    "    return criteria_func(y, root, left_child, right_child)\n"
   ]
  },
  {
   "cell_type": "markdown",
   "metadata": {},
   "source": [
    "We will use information gain criteria to decide how to split the root node of our decision tree.\n",
    "\n",
    "2.2 Complete the `entropy` function. (*5 points*)\n",
    "\n",
    "2.3 Complete the `information_gain_criteria` to compute the information gained by splitting the root node.\n",
    " Print the gain value for splitting based on *Colorado residency* (*5 points*)\n"
   ]
  },
  {
   "cell_type": "code",
   "execution_count": 7,
   "metadata": {
    "pycharm": {
     "name": "#%%\n"
    }
   },
   "outputs": [],
   "source": [
    "def entropy(y, indices):\n",
    "    \"\"\"\n",
    "    :param y: all labels\n",
    "    :param indices: the indices of data points\n",
    "    :return: Returns the entropy in the labels for the data points in indices.\n",
    "    \"\"\"\n",
    "    \n",
    "    entropy_value = 0\n",
    "    if len(indices) == 0: # deal with corner case when there is no data point.\n",
    "        return entropy_value\n",
    "    else:\n",
    "        #BEGIN Workspace 2.2\n",
    "        #TODO: Compute the entropy of the labels from indices\n",
    "        \n",
    "        n_classes = np.unique(y).shape[0]\n",
    "        classes_counts = np.zeros(n_classes)\n",
    "        for index in indices:\n",
    "            classes_counts[labels[index]] += 1\n",
    "        \n",
    "        for num_of_class in classes_counts:\n",
    "            if num_of_class > 0:\n",
    "                prob = num_of_class/len(indices)\n",
    "                entropy_value -= (prob)*np.log2(prob)\n",
    "        \n",
    "        #END Workspace 2.2\n",
    "    return entropy_value\n",
    "\n",
    "def information_gain_criteria(y, root, left_child, right_child):\n",
    "    \"\"\"\n",
    "    :param y: all labels\n",
    "    :param root: indices of all the data points in the root\n",
    "    :param left_child: the subset of indices in the left child\n",
    "    :param right_child: the subset of indices in the right child\n",
    "    :return: information gain of the split\n",
    "    \"\"\"\n",
    "    information_gain = 0\n",
    "    #BEGIN Workspace 2.3.a\n",
    "    #TODO: Compute the information gain of the split\n",
    "    \n",
    "    information_gain = entropy(y, root) - (len(left_child)/len(root))*entropy(y, left_child) - (len(right_child)/len(root))*entropy(y, right_child)\n",
    "    \n",
    "    #END Workspace 2.3.a\n",
    "    return information_gain"
   ]
  },
  {
   "cell_type": "code",
   "execution_count": 8,
   "metadata": {
    "pycharm": {
     "name": "#%%\n"
    }
   },
   "outputs": [
    {
     "name": "stdout",
     "output_type": "stream",
     "text": [
      "information gain: 0.0912774462416801\n"
     ]
    }
   ],
   "source": [
    "feature_id = 2\n",
    "info_gain = 0\n",
    "#BEGIN Workspace 2.3.b\n",
    "#TODO: report the information gain of the split based on Colorado Residency\n",
    "\n",
    "print(f\"information gain: {value_split_binary_feature(binary_features, labels, feature_id, np.arange(len(binary_features)), information_gain_criteria)}\")\n",
    "\n",
    "#END Workspace 2.3.b"
   ]
  },
  {
   "cell_type": "markdown",
   "metadata": {},
   "source": [
    "Now we have to deal with continuous features for the decision tree.\n",
    "One way to deal with continuous (or ordinal) data is to define binary features based on thresholding as we've done\n",
    "for NaiveBayes. But we have to find the optimal threshold based on the criteria we're using.\n",
    "\n",
    "2.4 Complete the `value_split_continuous_feature` by trying different possible threshold values of feature\n",
    "of index `feature_index` and return the best criteria value and threshold. (*5 points*)"
   ]
  },
  {
   "cell_type": "code",
   "execution_count": 9,
   "metadata": {
    "pycharm": {
     "name": "#%%\n"
    }
   },
   "outputs": [],
   "source": [
    "def value_split_continuous_feature(x, y, feature_index, root, criteria_func=information_gain_criteria):\n",
    "    \"\"\"\n",
    "    :param x: all feature values\n",
    "    :param y: all labels\n",
    "    :param feature_index: feature id to split the tree based on\n",
    "    :param root: indexes of all the data points in the root\n",
    "    :param criteria_func: the splitting criteria function\n",
    "    :return: Return the best value and its corresponding threshold by splitting based on a continuous feature.\n",
    "    \"\"\"\n",
    "\n",
    "    best_value, best_thres = 0, 0\n",
    "\n",
    "    #BEGIN Workspace 2.4\n",
    "    #TODO: Complete the function as detailed in the question and function description\n",
    "    \n",
    "    for i in range(len(x)):\n",
    "        curr_thres = x[i][feature_index]\n",
    "        left_child = []\n",
    "        right_child = []\n",
    "        for j in range(len(x)):\n",
    "            if x[j][feature_index] < curr_thres:\n",
    "                left_child.append(j)\n",
    "            else:\n",
    "                right_child.append(j)\n",
    "        curr_value = criteria_func(y, root, left_child, right_child)\n",
    "        if curr_value > best_value:\n",
    "            best_value = curr_value\n",
    "            best_thres = curr_thres\n",
    "\n",
    "    #END Workspace 2.4\n",
    "\n",
    "    return best_value, best_thres"
   ]
  },
  {
   "cell_type": "markdown",
   "metadata": {
    "pycharm": {
     "name": "#%% md\n"
    }
   },
   "source": [
    "2.5 Find the best thresholds for age and salary. Print their corresponding information gains. (*5 points*)"
   ]
  },
  {
   "cell_type": "code",
   "execution_count": 10,
   "metadata": {
    "pycharm": {
     "name": "#%%\n"
    }
   },
   "outputs": [
    {
     "name": "stdout",
     "output_type": "stream",
     "text": [
      "Best age split threshold: 61, corresponding information gain: 0.1444843438056279\n",
      "Best salary split threshold: 38000, corresponding information gain: 0.3219280948873623\n"
     ]
    }
   ],
   "source": [
    "root = list(range(len(labels))) # root includes all data points\n",
    "#BEGIN Workspace 2.5\n",
    "#TODO: Report the best thresholds for age and salary and their split information gains\n",
    "\n",
    "best_age_value, best_age_threshold = value_split_continuous_feature(features, labels, 0, root)\n",
    "best_salary_value, best_salary_threshold = value_split_continuous_feature(features, labels, 1, root)\n",
    "\n",
    "print(f\"Best age split threshold: {best_age_threshold}, corresponding information gain: {best_age_value}\")\n",
    "print(f\"Best salary split threshold: {best_salary_threshold}, corresponding information gain: {best_salary_value}\")\n",
    "\n",
    "#END Workspace 2.5"
   ]
  },
  {
   "cell_type": "markdown",
   "metadata": {},
   "source": [
    "2.6 Based on the obtained information gains, if we build a decision stump (decision tree with depth 1) greedily,\n",
    "which feature should we choose? Why? What's the resulting accuracy? (*2 points*)"
   ]
  },
  {
   "cell_type": "markdown",
   "metadata": {
    "pycharm": {
     "name": "#%% md\n"
    }
   },
   "source": [
    "#BEGIN Workspace 2.6.a\n",
    "\n",
    "We should choose the salary feature (specifically a 38,000 salary threshold) because it yields a higher information gain.\n",
    "\n",
    "#END Workspace 2.6.a"
   ]
  },
  {
   "cell_type": "code",
   "execution_count": 11,
   "metadata": {
    "pycharm": {
     "name": "#%%\n"
    }
   },
   "outputs": [
    {
     "name": "stdout",
     "output_type": "stream",
     "text": [
      "Accuracy when splitting on a salary of 38,000: 80.0%\n"
     ]
    }
   ],
   "source": [
    "#BEGIN Workspace 2.6.b\n",
    "#TODO: Split based on the chosen feature and compute the accuracy (use get_error_in_leaf)\n",
    "left_child, right_child = [], []\n",
    "for i in range(len(features)):\n",
    "    if features[i][1] < 38000:\n",
    "        left_child.append(i)\n",
    "    else:\n",
    "        right_child.append(i)\n",
    "\n",
    "left_error = get_error_in_leaf(labels, left_child) / len(left_child)\n",
    "right_error = get_error_in_leaf(labels, right_child) / len(right_child)\n",
    "total_error = (len(left_child)/len(features))*left_error + (len(right_child)/len(features))*right_error\n",
    "\n",
    "print(f\"Accuracy when splitting on a salary of 38,000: {100*(1 - total_error)}%\")\n",
    "\n",
    "#BEGIN Workspace 2.6.b"
   ]
  },
  {
   "cell_type": "markdown",
   "metadata": {},
   "source": [
    "**Bonus Question**\n",
    "\n",
    "2.7 You now have all the ingredients to build a decision tree recursively.\n",
    "You can build a decision tree of depth two and report its classification error on the training data and the tree.(*5 points*)"
   ]
  },
  {
   "cell_type": "code",
   "execution_count": 12,
   "metadata": {
    "pycharm": {
     "name": "#%%\n"
    }
   },
   "outputs": [],
   "source": [
    "#BEGIN Workspace 2.7\n",
    "#TODO: Build a Decision Tree of Depth 2 using age, salary and the previously computed thresholds\n",
    "\n",
    "\n",
    "#END Workspace 2.7"
   ]
  },
  {
   "cell_type": "markdown",
   "metadata": {},
   "source": [
    "Problem 3  - Decision Tree Ensembles: Bagging and Boosting [50 points]\n",
    "---\n",
    "\n",
    "We are going to predict house price levels using decision tree ensembles.\n",
    "\n",
    "In this classification problem, we compare Decision trees and it's ensembles - Bagging and Boosting on House Price prediction [dataset](https://www.kaggle.com/c/house-prices-advanced-regression-techniques/data)\n",
    "\n",
    "Our *weak learner* for this problem is the DecisionTreeClassifier from scikit-learn with `max_depth=10`.\n",
    "\n",
    "We start first by loading preprocessed data that we'll use. Since the original data is for regression, we have first to transform\n",
    "`y_train` and `y_test` to discrete values reflecting price level.\n",
    "\n",
    "|Price range| Label|\n",
    "|:----------:|--:|\n",
    "| $ P < $125000|0|\n",
    "|125000$\\leq P < $ 160000| 1 |\n",
    "|160000$ \\leq P < $ 200000| 2 |\n",
    "|200000$ \\leq P $ | 3 |\n",
    "\n",
    "3.1 Start by transforming`y_train` and `y_test` to discrete values using the provided ranges. (*3 points*)"
   ]
  },
  {
   "cell_type": "code",
   "execution_count": 13,
   "metadata": {
    "pycharm": {
     "name": "#%%\n"
    }
   },
   "outputs": [
    {
     "name": "stdout",
     "output_type": "stream",
     "text": [
      "[0 1 2 3] (1166, 79)\n",
      "[0 1 2 3] (292, 79)\n"
     ]
    }
   ],
   "source": [
    "X_train, X_test, y_train, y_test = pickle.load(open('./data/test_train.pkl','rb'))\n",
    "#BEGIN Workspace 3.1\n",
    "#TODO: Discretize y_train and y_test\n",
    "\n",
    "for i in range(len(y_train)):\n",
    "    if y_train[i] < 125000:\n",
    "        y_train[i] = 0\n",
    "    elif y_train[i] >= 125000 and y_train[i] < 160000:\n",
    "        y_train[i] = 1\n",
    "    elif y_train[i] >= 160000 and y_train[i] < 200000:\n",
    "        y_train[i] = 2\n",
    "    else:\n",
    "        y_train[i] = 3\n",
    "        \n",
    "for i in range(len(y_test)):\n",
    "    if y_test[i] < 125000:\n",
    "        y_test[i] = 0\n",
    "    elif y_test[i] >= 125000 and y_test[i] < 160000:\n",
    "        y_test[i] = 1\n",
    "    elif y_test[i] >= 160000 and y_test[i] < 200000:\n",
    "        y_test[i] = 2\n",
    "    else:\n",
    "        y_test[i] = 3\n",
    "\n",
    "#END Workspace 3.1\n",
    "print(np.unique(y_train), X_train.shape)\n",
    "print(np.unique(y_test), X_test.shape)"
   ]
  },
  {
   "cell_type": "markdown",
   "metadata": {
    "pycharm": {
     "name": "#%% md\n"
    }
   },
   "source": [
    "3.2 Complete the `ensemble_test` class to `fit` the model received as parameter and store the metrics and running time. (*5 points*)\n",
    "\n",
    "3.3 Complete `plot_metric` to show and compare different statistics of each model in a bar chart. (*5 points*)\n",
    "\n",
    "Later we will also use `ensemble_test` class to plot score, metric and time taken to fit the data."
   ]
  },
  {
   "cell_type": "code",
   "execution_count": 14,
   "metadata": {
    "pycharm": {
     "name": "#%%\n"
    }
   },
   "outputs": [],
   "source": [
    "def get_weak_learner():\n",
    "    \"\"\"Return a new instance of our chosen weak learner\"\"\"\n",
    "    return DecisionTreeClassifier(max_depth=10)\n",
    "\n",
    "class EnsembleTest:\n",
    "    \"\"\"\n",
    "        Test multiple model performance\n",
    "    \"\"\"\n",
    "\n",
    "    def __init__(self, x_train, y_train, x_test, y_test):\n",
    "        \"\"\"\n",
    "        initialize data partitions\n",
    "        \"\"\"\n",
    "        self.scores = {}\n",
    "        self.execution_time = {}\n",
    "        self.metric = {}\n",
    "        self.x_train = X_train\n",
    "        self.y_train = y_train\n",
    "        self.x_test = X_test\n",
    "        self.y_test = y_test\n",
    "        self.score_name ='Mean accuracy'\n",
    "        self.metric_name = 'Precision(micro)'\n",
    "\n",
    "    def fit_model(self, model, name):\n",
    "        \"\"\"\n",
    "        Fit the model on train data.\n",
    "        predict on test and store score and execution time for each fit.\n",
    "        :param model: model\n",
    "        :param name: name of model\n",
    "        \"\"\"\n",
    "        start = time()\n",
    "        #BEGIN Workspace 3.2\n",
    "        #TODO: Fit the model and get the predictions\n",
    "        #       train and test data are treated as global variables\n",
    "        \n",
    "        model.fit(self.x_train, self.y_train)\n",
    "        predictions = model.predict(self.x_test)\n",
    "        \n",
    "        self.scores[name] = precision_score(self.y_test, predictions, average='micro')\n",
    "        \n",
    "        num_correct = sum(predictions == self.y_test)\n",
    "        self.metric[name] = num_correct / len(predictions)\n",
    "\n",
    "        #Hint: self.scores[name] = precision_score(?, average=\"micro\") # in multi-class, micro implies treating it as binary precision\n",
    "        #Hint self.metric[name] = Accuracy\n",
    "        #END Workspace 3.2\n",
    "        self.execution_time[name] = time() - start\n",
    "\n",
    "    def print_result(self):\n",
    "        \"\"\"\n",
    "            print results for all models trained and tested.\n",
    "        \"\"\"\n",
    "        models_cross = pd.DataFrame({\n",
    "            'Model'         : list(self.metric.keys()),\n",
    "             self.score_name     : list(self.scores.values()),\n",
    "             self.metric_name    : list(self.metric.values()),\n",
    "            'Execution time': list(self.execution_time.values())})\n",
    "        print(models_cross.sort_values(by=self.score_name, ascending=False))\n",
    "\n",
    "    def plot_metric(self):\n",
    "        #BEGIN Workspace 3.3\n",
    "        #TODO: plot bar chart for each metric : time, metric, score\n",
    "        \n",
    "        models_cross = pd.DataFrame(\n",
    "            {\n",
    "                'Model'         : list(self.metric.keys()),\n",
    "                 self.score_name     : list(self.scores.values()),\n",
    "                 self.metric_name    : list(self.metric.values()),\n",
    "                'Execution time': list(self.execution_time.values())\n",
    "            },\n",
    "            index = list(self.metric.keys())\n",
    "        )\n",
    "        \n",
    "        models_cross.plot.bar()\n",
    "        \n",
    "        #END Workspace 3.3"
   ]
  },
  {
   "cell_type": "markdown",
   "metadata": {
    "pycharm": {
     "name": "#%% md\n"
    }
   },
   "source": [
    "3.4 Test `EnsembleTest` using our weak learner returned by `get_weak_learner` (*2 points*)"
   ]
  },
  {
   "cell_type": "code",
   "execution_count": 15,
   "metadata": {
    "pycharm": {
     "name": "#%%\n"
    }
   },
   "outputs": [
    {
     "name": "stdout",
     "output_type": "stream",
     "text": [
      "          Model  Mean accuracy  Precision(micro)  Execution time\n",
      "0  Weak Learner       0.691781          0.691781        0.034997\n"
     ]
    },
    {
     "data": {
      "image/png": "[encoded data removed]",
      "text/plain": [
       "<Figure size 432x288 with 1 Axes>"
      ]
     },
     "metadata": {
      "needs_background": "light"
     },
     "output_type": "display_data"
    }
   ],
   "source": [
    "# create a handler for ensemble_test, use the created handler for fitting different models.\n",
    "ensemble_handler = EnsembleTest(X_train,y_train,X_test,y_test)\n",
    "#BEGIN Workspace 3.4\n",
    "#TODO: Initialize weak learner and fit ensemble_handler\n",
    "\n",
    "weak_learner = get_weak_learner()\n",
    "ensemble_handler.fit_model(weak_learner, \"Weak Learner\")\n",
    "\n",
    "ensemble_handler.plot_metric()\n",
    "\n",
    "#END Workspace 3.4\n",
    "ensemble_handler.print_result()"
   ]
  },
  {
   "cell_type": "markdown",
   "metadata": {},
   "source": [
    "**Bagging:**\n",
    "\n",
    "Bagging consists of training a set of weak learners using random subsets of the train data.\n",
    "\n",
    "3.5 First, complete `sample_data` to return a random sample of size `sample_ratio * len(X_train)` of features and labels (*2 points*)\n",
    "\n",
    "3.6 Complete `fit` by building `n_estimators` of DecisionTreeClassifier, each trained on random sample of the data (*5 points*)\n",
    "\n",
    "3.7 Complete `predict` method to return the most likely label by combining different estimators predictions. \n",
    "Use a simple majority / plurality vote system similar to the one used in your KNNClassifier in Problem Set 1. However, in this case, to break a tie you should use `predict_log_proba` or `predict_proba` method of DecisionTreeClassifier:\n",
    "[Documentation](https://scikit-learn.org/stable/modules/generated/sklearn.tree.DecisionTreeClassifier.html#sklearn.tree.DecisionTreeClassifier.predict_proba) (*2 points*)"
   ]
  },
  {
   "cell_type": "code",
   "execution_count": 16,
   "metadata": {
    "pycharm": {
     "name": "#%%\n"
    }
   },
   "outputs": [],
   "source": [
    "class BaggingEnsemble(object):\n",
    "\n",
    "    def __init__(self, n_estimators, sample_ratio):\n",
    "        self.n_estimators = n_estimators\n",
    "        self.sample_ratio = sample_ratio\n",
    "        self.estimators = []\n",
    "\n",
    "    def sample_data(self, x_train, y_train):\n",
    "        x_sample, y_sample = None, None\n",
    "        #BEGIN Workspace 3.5\n",
    "        #TODO: sample random subset of size sample_ratio * len(X_train)\n",
    "        \n",
    "        num_samples = len(x_train)\n",
    "        p = np.random.permutation(num_samples)\n",
    "        split_point = int(self.sample_ratio*num_samples)\n",
    "        x_sample, y_sample = x_train[p][:split_point], y_train[p][:split_point]\n",
    "        \n",
    "        #END Workspace 3.5\n",
    "        return x_sample, y_sample\n",
    "\n",
    "    def fit(self, x_train, y_train):\n",
    "        for _ in range(self.n_estimators):\n",
    "            #BEGIN Workspace 3.6\n",
    "            #TODO: sample data and create new weak learner trained on the sample\n",
    "            \n",
    "            weak_learner = get_weak_learner()\n",
    "            x, y = self.sample_data(x_train, y_train)\n",
    "            weak_learner.fit(x, y)\n",
    "            self.estimators.append(weak_learner)\n",
    "            \n",
    "            #END Workspace 3.6\n",
    "\n",
    "    def predict(self, X_test):\n",
    "        answer = np.zeros(len(X_test))\n",
    "        #BEGIN Workspace 3.7\n",
    "        #TODO: go through the trained estimators and accumulate their predicted_proba to get the mostly likely label\n",
    "        \n",
    "        accumulated_proba = np.zeros((len(X_test), 4))\n",
    "        for estimator in self.estimators:\n",
    "            proba = estimator.predict_proba(X_test)\n",
    "            accumulated_proba += proba\n",
    "            \n",
    "        for i in range(len(accumulated_proba)):\n",
    "            answer[i] = np.argmax(accumulated_proba[i])\n",
    "        \n",
    "        #END Workspace 3.7\n",
    "        return answer\n"
   ]
  },
  {
   "cell_type": "code",
   "execution_count": 17,
   "metadata": {
    "pycharm": {
     "name": "#%%\n"
    }
   },
   "outputs": [
    {
     "name": "stdout",
     "output_type": "stream",
     "text": [
      "          Model  Mean accuracy  Precision(micro)  Execution time\n",
      "1       Bagging       0.763699          0.763699        0.256116\n",
      "0  Weak Learner       0.691781          0.691781        0.034997\n"
     ]
    },
    {
     "data": {
      "image/png": "[encoded data removed]",
      "text/plain": [
       "<Figure size 432x288 with 1 Axes>"
      ]
     },
     "metadata": {
      "needs_background": "light"
     },
     "output_type": "display_data"
    }
   ],
   "source": [
    "# This cell should run without errors\n",
    "ensemble_handler.fit_model(BaggingEnsemble(10, 0.9),'Bagging')\n",
    "ensemble_handler.print_result()\n",
    "ensemble_handler.plot_metric()"
   ]
  },
  {
   "cell_type": "markdown",
   "metadata": {
    "pycharm": {
     "name": "#%% md\n"
    }
   },
   "source": [
    "**Random Forest**\n",
    "Random Forest has an additional layer of randomness compared to Bagging: we also sample a random subset of the features.\n",
    "\n",
    "3.8 First, complete `sample_data` to return a random sample of size `sample_ratio * len(X_train)` of labels and `feature_ratio * num_features` of features (*2 points*)\n",
    "\n",
    "3.9 Complete `fit` by building `n_estimators` of DecisionTreeClassifier, each trained on random sample of the data.\n",
    "Make sure to keep track of the sampled features for each estimator to use them in the prediction step. (*5 points*)\n",
    "\n",
    "3.10 Complete `predict` method to return the most likely label by combining different estimators predictions.\n",
    "Use a simple majority / plurality vote system similar to the one used in your KNNClassifier in Problem Set 1. However, in this case, to break a tie you should use `predict_log_proba` or `predict_proba`  method of DecisionTreeClassifier:\n",
    "[Documentation](https://scikit-learn.org/stable/modules/generated/sklearn.tree.DecisionTreeClassifier.html#sklearn.tree.DecisionTreeClassifier.predict_proba) (*3 points*)\n"
   ]
  },
  {
   "cell_type": "code",
   "execution_count": 18,
   "metadata": {
    "pycharm": {
     "name": "#%%\n"
    }
   },
   "outputs": [],
   "source": [
    "class RandomForest(object):\n",
    "\n",
    "    def __init__(self, n_estimators, sample_ratio, features_ratio):\n",
    "        self.n_estimators = n_estimators\n",
    "        self.sample_ratio = sample_ratio\n",
    "        self.features_ratio = features_ratio\n",
    "        self.estimators = []\n",
    "        self.features_indices = []\n",
    "\n",
    "    def sample_data(self, x_train, y_train):\n",
    "        X_sample, y_sample, features_indices = None, None, None\n",
    "        #BEGIN Workspace 3.8\n",
    "        #TODO: sample random subset of size sample_ratio * len(X_train) and subset of features of size\n",
    "        #         features_ratio * num_features\n",
    "        \n",
    "        num_features = len(x_train[0])\n",
    "        p = np.random.permutation(num_features)\n",
    "        split_point = int(self.features_ratio*num_features)\n",
    "        features_indices = np.arange(num_features)[p][:split_point]\n",
    "        \n",
    "        num_samples = len(x_train)\n",
    "        p = np.random.permutation(num_samples)\n",
    "        split_point = int(self.sample_ratio*num_samples)\n",
    "        x_sample, y_sample = x_train[p][:split_point][:,features_indices], y_train[p][:split_point]\n",
    "        \n",
    "        #END Workspace 3.8\n",
    "        return x_sample, y_sample, features_indices\n",
    "\n",
    "    def fit(self, x_train, y_train):\n",
    "        for _ in range(self.n_estimators):\n",
    "            #BEGIN Workspace 3.9\n",
    "            #TODO: sample data with random subset of rows and features using sample_data\n",
    "            #Hint: keep track of the features indices in features_indices to use in predict\n",
    "            \n",
    "            weak_learner = get_weak_learner()\n",
    "            x, y, features_indices = self.sample_data(x_train, y_train)\n",
    "            self.features_indices.append(features_indices)\n",
    "            weak_learner.fit(x, y)\n",
    "            self.estimators.append(weak_learner)\n",
    "            \n",
    "            #END Workspace 3.9\n",
    "\n",
    "    def predict(self, X_test):\n",
    "        answer = np.zeros(len(X_test))\n",
    "        #BEGIN Workspace 3.10\n",
    "        #TODO: compute cumulative sum of predict proba from estimators and return the labels with highest likelihood\n",
    "\n",
    "        accumulated_proba = np.zeros((len(X_test), 4))\n",
    "        for i, estimator in enumerate(self.estimators):\n",
    "            proba = estimator.predict_proba(X_test[:,self.features_indices[i]])\n",
    "            accumulated_proba += proba\n",
    "            \n",
    "        for i in range(len(accumulated_proba)):\n",
    "            answer[i] = np.argmax(accumulated_proba[i])\n",
    "        \n",
    "        #END Workspace 3.10\n",
    "        return answer"
   ]
  },
  {
   "cell_type": "code",
   "execution_count": 19,
   "metadata": {
    "pycharm": {
     "name": "#%%\n"
    }
   },
   "outputs": [
    {
     "name": "stdout",
     "output_type": "stream",
     "text": [
      "          Model  Mean accuracy  Precision(micro)  Execution time\n",
      "1       Bagging       0.763699          0.763699        0.256116\n",
      "2  RandomForest       0.753425          0.753425        0.247989\n",
      "0  Weak Learner       0.691781          0.691781        0.034997\n"
     ]
    },
    {
     "data": {
      "image/png": "[encoded data removed]",
      "text/plain": [
       "<Figure size 432x288 with 1 Axes>"
      ]
     },
     "metadata": {
      "needs_background": "light"
     },
     "output_type": "display_data"
    }
   ],
   "source": [
    "# This cell should run without errors\n",
    "ensemble_handler.fit_model(RandomForest(10, sample_ratio=0.9, features_ratio=0.8), 'RandomForest')\n",
    "ensemble_handler.print_result()\n",
    "ensemble_handler.plot_metric()"
   ]
  },
  {
   "cell_type": "markdown",
   "metadata": {},
   "source": [
    "**Boosting**\n",
    "\n",
    "There are different methods of boosting, but we'll focus in this problem on Adaptive Boosting (AdaBoost).\n",
    "The logic of AdaBoost is to \"push\" the new learner to give more importance to previously misclassified data. We present\n",
    "below the multiclass variant of AdaBoost [SAMME](https://web.stanford.edu/~hastie/Papers/samme.pdf). We denote $K$ the number of classes.\n",
    "\n",
    "AdaBosst is performed by increasing the weights of misclassified simple after each iteration:\n",
    "- Start with equal weights $W_1 = (w_i), $ where   $w_i = \\frac{1}{\\texttt{n_samples}}$\n",
    "- at step j:\n",
    "    - Train estimator $h_j$ using weights $W_j$\n",
    "    - Find the weighted error rate $\\epsilon_j$ using $W_j$: $\\epsilon_j=\\frac{\\sum_i w_i \\delta(\\hat{y}_i, y_i)}{\\sum_i w_i}$\n",
    "    - Choose $\\alpha_j = \\log \\frac{1-\\epsilon_j}{\\epsilon_j} + \\log(K-1)$\n",
    "    - Update $W_j$ using: $w_i \\leftarrow w_i \\exp(\\alpha_j \\delta(\\hat{y_i}, y_i)) $\n",
    "    - Normalize $W_j$ to have sum 1\n",
    "- Global estimator is $H = \\sum_j \\alpha_j h_j$\n",
    "\n",
    "$\\hat{y}$ are the predicted labels, and $\\delta$ the Kronecker function, equal to 0 when the two argument are equal, 1 otherwise.\n",
    "\n",
    "\n",
    "3.11 Complete `fit` by building `n_estimators` of DecisionTreeClassifier, each trained on the same data but with different\n",
    "samples weights as detailed in the algorithm. Keep track of $(\\alpha_i)$ (*7 points*)\n",
    "\n",
    "3.12 Complete `predict` method to return the predicted label using the global estimator $H$ (*5 points*). Hint:\n",
    "use one hot encoding of the predicted labels from the weak learners and cumulate the prediction with weights $\\alpha_j$ \n",
    "\n",
    "Notice that if the weak learner is consistent (0 error rate on the training set), AdaBoost $\\alpha_j$ are no longer defined."
   ]
  },
  {
   "cell_type": "code",
   "execution_count": 20,
   "metadata": {
    "pycharm": {
     "name": "#%%\n"
    }
   },
   "outputs": [],
   "source": [
    "class AdaBoost(object):\n",
    "\n",
    "    def __init__(self, n_estimators, num_classes=4):\n",
    "        self.n_estimators = n_estimators\n",
    "        self.num_classes = num_classes\n",
    "        self.estimators = []\n",
    "        self.alphas = []\n",
    "        self.weights = None\n",
    "\n",
    "\n",
    "    def fit(self, X_train, y_train):\n",
    "        \n",
    "        self.weights = np.array([1/len(X_train)]*len(X_train))\n",
    "        \n",
    "        for _ in range(self.n_estimators):\n",
    "            #BEGIN Workspace 3.11\n",
    "            #TODO: Implement Multiclass Adaboost and keep track of the alpha_j\n",
    "            \n",
    "            # fit weak learner on current weights\n",
    "            weak_learner = get_weak_learner()\n",
    "            weak_learner.fit(X_train, y_train, sample_weight=self.weights)\n",
    "            self.estimators.append(weak_learner)\n",
    "            \n",
    "            # get predictions with weak learner so we can find alpha_j and update weights\n",
    "            predictions = weak_learner.predict(X_train)\n",
    "            numerator, denominator = 0, 0\n",
    "            for i in range(len(predictions)):\n",
    "                if predictions[i] != y_train[i]:\n",
    "                    numerator += self.weights[i]\n",
    "                denominator += self.weights[i]\n",
    "                \n",
    "            error_rate_j = numerator/denominator\n",
    "            \n",
    "            alpha_j = np.log((1 - error_rate_j)/error_rate_j) + np.log(self.num_classes - 1)\n",
    "            self.alphas.append(alpha_j)\n",
    "            \n",
    "            for i in range(len(self.weights)):\n",
    "                if predictions[i] != y_train[i]:\n",
    "                    self.weights[i] *= np.exp(alpha_j)\n",
    "                    \n",
    "            self.weights /= sum(self.weights)\n",
    "\n",
    "            #END Workspace 3.11\n",
    "\n",
    "    def predict(self, X_test):\n",
    "        answer = np.zeros(len(X_test))\n",
    "        #BEGIN Workspace 3.12\n",
    "        #TODO: get the labels returned by the global estimator defined as H\n",
    "        #Hint: Use one-hot format to get the labels using the global estimator\n",
    "        #Hint: We don't need predict_proba for this one\n",
    "        \n",
    "        total_predictions = []\n",
    "        \n",
    "        self.alphas = np.array(self.alphas)\n",
    "        \n",
    "        for i, estimator in enumerate(self.estimators):\n",
    "            predictions = estimator.predict(X_test)\n",
    "            total_predictions.append(predictions)\n",
    "            \n",
    "        for i in range(len(total_predictions[0])): # number of samples (same as len(X_test))\n",
    "            h_j = np.zeros((len(self.alphas), self.num_classes)) # predictions of each estimator for current sample (one-hot encoded)\n",
    "            for j in range(len(total_predictions)): # number of estimators\n",
    "                h_j[j][total_predictions[j][i]] = 1\n",
    "                \n",
    "            x = self.alphas[:, np.newaxis] * h_j\n",
    "            class_probs = np.sum(x, axis=0)\n",
    "            label = np.argmax(class_probs)\n",
    "            answer[i] = label\n",
    "                \n",
    "        #END Workspace 3.12\n",
    "        return answer"
   ]
  },
  {
   "cell_type": "code",
   "execution_count": 21,
   "metadata": {
    "pycharm": {
     "name": "#%%\n"
    }
   },
   "outputs": [
    {
     "name": "stdout",
     "output_type": "stream",
     "text": [
      "          Model  Mean accuracy  Precision(micro)  Execution time\n",
      "3      AdaBoost       0.770548          0.770548        0.274284\n",
      "1       Bagging       0.763699          0.763699        0.256116\n",
      "2  RandomForest       0.753425          0.753425        0.247989\n",
      "0  Weak Learner       0.691781          0.691781        0.034997\n"
     ]
    },
    {
     "data": {
      "image/png": "[encoded data removed]",
      "text/plain": [
       "<Figure size 432x288 with 1 Axes>"
      ]
     },
     "metadata": {
      "needs_background": "light"
     },
     "output_type": "display_data"
    }
   ],
   "source": [
    "# This cell should run without errors\n",
    "ensemble_handler.fit_model(AdaBoost(10), 'AdaBoost')\n",
    "ensemble_handler.print_result()\n",
    "ensemble_handler.plot_metric()"
   ]
  },
  {
   "cell_type": "markdown",
   "metadata": {},
   "source": [
    "**Comparison**\n",
    "\n",
    "3.13 Add different ensemble methods to the handler (try different parameters), plot, show, and compare them (*5 points*)."
   ]
  },
  {
   "cell_type": "code",
   "execution_count": 22,
   "metadata": {
    "pycharm": {
     "name": "#%%\n"
    }
   },
   "outputs": [],
   "source": [
    "# create a handler for ensemble_test, use the created handler for fitting different models.\n",
    "ensemble_handler_weak = EnsembleTest(X_train, y_train, X_test, y_test)\n",
    "decision = get_weak_learner()\n",
    "ensemble_handler_weak.fit_model(decision,'decision_tree')\n",
    "#BEGIN Workspace 3.13.a\n",
    "#TODO Add multiple instances of the ensemble methods. Plot and compare their performance\n",
    "#END Workspace 3.13.a"
   ]
  },
  {
   "cell_type": "code",
   "execution_count": 23,
   "metadata": {},
   "outputs": [
    {
     "name": "stdout",
     "output_type": "stream",
     "text": [
      "           Model  Mean accuracy  Precision(micro)  Execution time\n",
      "0  decision_tree       0.660959          0.660959        0.041888\n"
     ]
    },
    {
     "data": {
      "image/png": "[encoded data removed]",
      "text/plain": [
       "<Figure size 432x288 with 1 Axes>"
      ]
     },
     "metadata": {
      "needs_background": "light"
     },
     "output_type": "display_data"
    }
   ],
   "source": [
    "ensemble_handler_weak.print_result()\n",
    "ensemble_handler_weak.plot_metric()"
   ]
  },
  {
   "cell_type": "code",
   "execution_count": 24,
   "metadata": {},
   "outputs": [],
   "source": [
    "ensemble_handler_bagging = EnsembleTest(X_train, y_train, X_test, y_test)\n",
    "num_estimators_list = [1, 10, 50, 100]\n",
    "sample_ratio_list = [.1, .5, .9]\n",
    "for num_estimators in num_estimators_list:\n",
    "    for sample_ratio in sample_ratio_list:\n",
    "        ensemble_handler_bagging.fit_model(BaggingEnsemble(num_estimators, sample_ratio), f'Bagging_{num_estimators}_{sample_ratio}')"
   ]
  },
  {
   "cell_type": "code",
   "execution_count": 25,
   "metadata": {},
   "outputs": [
    {
     "name": "stdout",
     "output_type": "stream",
     "text": [
      "              Model  Mean accuracy  Precision(micro)  Execution time\n",
      "10  Bagging_100_0.5       0.791096          0.791096        0.929152\n",
      "7    Bagging_50_0.5       0.773973          0.773973        0.577138\n",
      "9   Bagging_100_0.1       0.756849          0.756849        0.188208\n",
      "8    Bagging_50_0.9       0.753425          0.753425        0.764074\n",
      "5    Bagging_10_0.9       0.750000          0.750000        0.199451\n",
      "11  Bagging_100_0.9       0.746575          0.746575        1.673067\n",
      "4    Bagging_10_0.5       0.736301          0.736301        0.135287\n",
      "6    Bagging_50_0.1       0.729452          0.729452        0.124019\n",
      "3    Bagging_10_0.1       0.705479          0.705479        0.034431\n",
      "2     Bagging_1_0.9       0.684932          0.684932        0.020378\n",
      "1     Bagging_1_0.5       0.671233          0.671233        0.030207\n",
      "0     Bagging_1_0.1       0.602740          0.602740        0.011187\n"
     ]
    },
    {
     "data": {
      "image/png": "[encoded data removed]",
      "text/plain": [
       "<Figure size 432x288 with 1 Axes>"
      ]
     },
     "metadata": {
      "needs_background": "light"
     },
     "output_type": "display_data"
    }
   ],
   "source": [
    "ensemble_handler_bagging.print_result()\n",
    "ensemble_handler_bagging.plot_metric()"
   ]
  },
  {
   "cell_type": "code",
   "execution_count": 26,
   "metadata": {},
   "outputs": [],
   "source": [
    "ensemble_handler_random_forest = EnsembleTest(X_train, y_train, X_test, y_test)\n",
    "num_estimators_list = [1, 10, 50, 100]\n",
    "sample_ratio_list = [.1, .5, .9]\n",
    "features_ratio_list = [.1, .5, .9]\n",
    "for num_estimators in num_estimators_list:\n",
    "    for sample_ratio in sample_ratio_list:\n",
    "        for features_ratio in features_ratio_list:\n",
    "            ensemble_handler_random_forest.fit_model(RandomForest(num_estimators, sample_ratio=sample_ratio, features_ratio=features_ratio), f'RandomForest_{num_estimators}_{sample_ratio}_{features_ratio}')"
   ]
  },
  {
   "cell_type": "code",
   "execution_count": 27,
   "metadata": {},
   "outputs": [
    {
     "name": "stdout",
     "output_type": "stream",
     "text": [
      "                       Model  Mean accuracy  Precision(micro)  Execution time\n",
      "23   RandomForest_50_0.5_0.9       0.791096          0.791096        0.486262\n",
      "32  RandomForest_100_0.5_0.9       0.784247          0.784247        0.767434\n",
      "26   RandomForest_50_0.9_0.9       0.784247          0.784247        0.826968\n",
      "25   RandomForest_50_0.9_0.5       0.780822          0.780822        0.648084\n",
      "22   RandomForest_50_0.5_0.5       0.780822          0.780822        0.235898\n",
      "29  RandomForest_100_0.1_0.9       0.773973          0.773973        0.287225\n",
      "35  RandomForest_100_0.9_0.9       0.770548          0.770548        1.291831\n",
      "34  RandomForest_100_0.9_0.5       0.767123          0.767123        0.729985\n",
      "31  RandomForest_100_0.5_0.5       0.767123          0.767123        0.519985\n",
      "16   RandomForest_10_0.9_0.5       0.763699          0.763699        0.079427\n",
      "17   RandomForest_10_0.9_0.9       0.763699          0.763699        0.132893\n",
      "14   RandomForest_10_0.5_0.9       0.760274          0.760274        0.085780\n",
      "28  RandomForest_100_0.1_0.5       0.746575          0.746575        0.145253\n",
      "20   RandomForest_50_0.1_0.9       0.743151          0.743151        0.107676\n",
      "13   RandomForest_10_0.5_0.5       0.722603          0.722603        0.045820\n",
      "24   RandomForest_50_0.9_0.1       0.719178          0.719178        0.157355\n",
      "8     RandomForest_1_0.9_0.9       0.712329          0.712329        0.014652\n",
      "19   RandomForest_50_0.1_0.5       0.705479          0.705479        0.066840\n",
      "10   RandomForest_10_0.1_0.5       0.705479          0.705479        0.014668\n",
      "21   RandomForest_50_0.5_0.1       0.705479          0.705479        0.089793\n",
      "5     RandomForest_1_0.5_0.9       0.695205          0.695205        0.007308\n",
      "7     RandomForest_1_0.9_0.5       0.695205          0.695205        0.014746\n",
      "15   RandomForest_10_0.9_0.1       0.691781          0.691781        0.021979\n",
      "30  RandomForest_100_0.5_0.1       0.691781          0.691781        0.201821\n",
      "27  RandomForest_100_0.1_0.1       0.688356          0.688356        0.076105\n",
      "33  RandomForest_100_0.9_0.1       0.684932          0.684932        0.171100\n",
      "18   RandomForest_50_0.1_0.1       0.667808          0.667808        0.037592\n",
      "12   RandomForest_10_0.5_0.1       0.660959          0.660959        0.014688\n",
      "11   RandomForest_10_0.1_0.9       0.660959          0.660959        0.014628\n",
      "4     RandomForest_1_0.5_0.5       0.647260          0.647260        0.007279\n",
      "1     RandomForest_1_0.1_0.5       0.619863          0.619863        0.005320\n",
      "2     RandomForest_1_0.1_0.9       0.595890          0.595890        0.004930\n",
      "6     RandomForest_1_0.9_0.1       0.582192          0.582192        0.000000\n",
      "9    RandomForest_10_0.1_0.1       0.578767          0.578767        0.007362\n",
      "3     RandomForest_1_0.5_0.1       0.434932          0.434932        0.002183\n",
      "0     RandomForest_1_0.1_0.1       0.315068          0.315068        0.005131\n"
     ]
    },
    {
     "data": {
      "image/png": "[encoded data removed]",
      "text/plain": [
       "<Figure size 432x288 with 1 Axes>"
      ]
     },
     "metadata": {
      "needs_background": "light"
     },
     "output_type": "display_data"
    }
   ],
   "source": [
    "ensemble_handler_random_forest.print_result()\n",
    "ensemble_handler_random_forest.plot_metric()"
   ]
  },
  {
   "cell_type": "code",
   "execution_count": 28,
   "metadata": {},
   "outputs": [],
   "source": [
    "ensemble_handler_adaboost = EnsembleTest(X_train, y_train, X_test, y_test)\n",
    "num_estimators_list = [1, 10, 50, 100]\n",
    "for num_estimators in num_estimators_list:\n",
    "    ensemble_handler_adaboost.fit_model(AdaBoost(num_estimators), f'AdaBoost_{num_estimators}')"
   ]
  },
  {
   "cell_type": "code",
   "execution_count": 29,
   "metadata": {},
   "outputs": [
    {
     "name": "stdout",
     "output_type": "stream",
     "text": [
      "          Model  Mean accuracy  Precision(micro)  Execution time\n",
      "3  AdaBoost_100       0.791096          0.791096        1.875850\n",
      "2   AdaBoost_50       0.767123          0.767123        0.939581\n",
      "1   AdaBoost_10       0.760274          0.760274        0.206115\n",
      "0    AdaBoost_1       0.678082          0.678082        0.029829\n"
     ]
    },
    {
     "data": {
      "image/png": "[encoded data removed]",
      "text/plain": [
       "<Figure size 432x288 with 1 Axes>"
      ]
     },
     "metadata": {
      "needs_background": "light"
     },
     "output_type": "display_data"
    }
   ],
   "source": [
    "ensemble_handler_adaboost.print_result()\n",
    "ensemble_handler_adaboost.plot_metric()"
   ]
  },
  {
   "cell_type": "markdown",
   "metadata": {
    "pycharm": {
     "name": "#%% md\n"
    }
   },
   "source": [
    "#BEGIN Workspace 3.13.b\n",
    "\n",
    "The non-weak-learner models (bagging, random forest, adaboost) all seem to have somewhat equivalent performance, and all are better-performing than the base weak-learner model.\n",
    "<br/>\n",
    "As can be seen from the above plots and table printouts, accuracy generally increases for each model type as each parameter increases. This makes sense for each of the parameters as follows: <br/>\n",
    "<br/>\n",
    "Increasing the number of estimators should boost performance, as getting a larger amount of predictions will eliminate outliers, leading to a more consistent overall prediction model. <br/>\n",
    "<br/>\n",
    "Increasing the sample ratio should also boost performance, as training on a larger portion of the total sample size will generally lead to a better \"understanding\" of the data (larger sample size, more data to train on), leading to a more accurate prediction model. <br/>\n",
    "<br/>\n",
    "Increasing the feature ratio should boost performance as well, as training on a larger portion of the features for each sample will, as it is with sample ratio, lead to a better \"understanding\" of the training data, which in turn also leads to a more accuracte prediction model. <br/>\n",
    "<br/>\n",
    "One possible concern with using a sample and/or feature ratio of 1 is overfitting. This can be avoided by using ratios of less than 1.\n",
    "\n",
    "#END Workspace 3.13.b"
   ]
  }
 ],
 "metadata": {
  "kernelspec": {
   "display_name": "Python 3",
   "language": "python",
   "name": "python3"
  },
  "language_info": {
   "codemirror_mode": {
    "name": "ipython",
    "version": 3
   },
   "file_extension": ".py",
   "mimetype": "text/x-python",
   "name": "python",
   "nbconvert_exporter": "python",
   "pygments_lexer": "ipython3",
   "version": "3.8.5"
  }
 },
 "nbformat": 4,
 "nbformat_minor": 4
}
